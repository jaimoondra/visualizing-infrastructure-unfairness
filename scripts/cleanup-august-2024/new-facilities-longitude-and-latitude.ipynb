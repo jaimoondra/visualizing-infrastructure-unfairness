{
 "cells": [
  {
   "metadata": {
    "ExecuteTime": {
     "end_time": "2024-08-15T03:41:27.210488Z",
     "start_time": "2024-08-15T03:41:26.757043Z"
    }
   },
   "cell_type": "code",
   "source": [
    "import pandas as pd\n",
    "from src.usa.constants import state_names\n",
    "from src.usa.states import USAState\n",
    "import os\n",
    "from ast import literal_eval\n",
    "import numpy as np\n",
    "from tqdm import tqdm\n"
   ],
   "id": "ebeeb41f8e5de440",
   "outputs": [
    {
     "name": "stderr",
     "output_type": "stream",
     "text": [
      "/Users/Jai/DataspellProjects/Suggesting-Facilities-USA/venv/lib/python3.9/site-packages/urllib3/__init__.py:35: NotOpenSSLWarning: urllib3 v2 only supports OpenSSL 1.1.1+, currently the 'ssl' module is compiled with 'LibreSSL 2.8.3'. See: https://github.com/urllib3/urllib3/issues/3020\n",
      "  warnings.warn(\n",
      "2024-08-14 20:41:27.204 WARNING streamlit.runtime.caching.cache_data_api: No runtime found, using MemoryCacheStorageManager\n"
     ]
    }
   ],
   "execution_count": 1
  },
  {
   "metadata": {
    "ExecuteTime": {
     "end_time": "2024-08-15T03:42:23.935915Z",
     "start_time": "2024-08-15T03:42:23.932968Z"
    }
   },
   "cell_type": "code",
   "source": "facility_name = 'urgentcare_centers'",
   "id": "5b6a5a126858ab55",
   "outputs": [],
   "execution_count": 14
  },
  {
   "metadata": {
    "ExecuteTime": {
     "end_time": "2024-08-15T03:42:34.072352Z",
     "start_time": "2024-08-15T03:42:27.406397Z"
    }
   },
   "cell_type": "code",
   "source": [
    "for state in tqdm(state_names):\n",
    "    State = USAState(name=state)\n",
    "    state_dir = os.path.join('..', '..', 'data', 'usa', 'new_facilities', facility_name, State.fips)\n",
    "    if not os.path.exists(state_dir):\n",
    "        os.mkdir(state_dir)\n",
    "    \n",
    "    for p in [1, 2, np.inf, 'combined']:\n",
    "        facilities_filepath = os.path.join('..', '..', 'data', 'usa', 'new_facilities', facility_name, 'new_facilities_' + str(p) + '.csv')\n",
    "        new_facilities = pd.read_csv(facilities_filepath)\n",
    "        new_facilities = new_facilities[new_facilities['State'] == state]['100']\n",
    "        new_facilities = literal_eval(new_facilities.values[0])\n",
    "        \n",
    "        state_df = State.get_census_data(level='blockgroup')\n",
    "        \n",
    "        facilities_df = state_df.loc[new_facilities][['GEOID', 'Longitude', 'Latitude']]\n",
    "        facilities_df.to_csv(os.path.join(state_dir, 'new_facilities_' + str(p) + '.csv'), index=True)"
   ],
   "id": "c51dc0ef59d68d87",
   "outputs": [
    {
     "name": "stderr",
     "output_type": "stream",
     "text": [
      "100%|██████████| 50/50 [00:06<00:00,  7.51it/s]\n"
     ]
    }
   ],
   "execution_count": 15
  },
  {
   "metadata": {
    "ExecuteTime": {
     "end_time": "2024-08-13T11:58:47.559607Z",
     "start_time": "2024-08-13T11:58:47.556736Z"
    }
   },
   "cell_type": "code",
   "source": "",
   "id": "d8c9c96537e51639",
   "outputs": [],
   "execution_count": 37
  },
  {
   "metadata": {},
   "cell_type": "code",
   "outputs": [],
   "execution_count": null,
   "source": "",
   "id": "4d48dc02e15b0f89"
  }
 ],
 "metadata": {
  "kernelspec": {
   "display_name": "Python 3",
   "language": "python",
   "name": "python3"
  },
  "language_info": {
   "codemirror_mode": {
    "name": "ipython",
    "version": 2
   },
   "file_extension": ".py",
   "mimetype": "text/x-python",
   "name": "python",
   "nbconvert_exporter": "python",
   "pygments_lexer": "ipython2",
   "version": "2.7.6"
  }
 },
 "nbformat": 4,
 "nbformat_minor": 5
}
