{
 "cells": [
  {
   "cell_type": "code",
   "id": "initial_id",
   "metadata": {
    "collapsed": true,
    "ExecuteTime": {
     "end_time": "2024-08-10T18:19:28.385732Z",
     "start_time": "2024-08-10T18:19:27.889646Z"
    }
   },
   "source": [
    "import matplotlib.pyplot as plt\n",
    "\n",
    "# Data\n",
    "categories = ['Category 1', 'Category 2', 'Category 3']\n",
    "data1 = [5, 10, 15]\n",
    "data2 = [3, 7, 9]\n",
    "data3 = [2, 4, 6]\n",
    "\n",
    "# Plotting\n",
    "fig, ax = plt.subplots()\n",
    "\n",
    "# Stacked bars\n",
    "ax.bar(categories, data1, label='Data 1', color='#1f77b4')\n",
    "ax.bar(categories, data2, bottom=data1, label='Data 2', color='#ff7f0e')\n",
    "ax.bar(categories, data3, bottom=[i+j for i,j in zip(data1, data2)], label='Data 3', color='#2ca02c')\n",
    "\n",
    "# Labels and title\n",
    "ax.set_xlabel('Categories')\n",
    "ax.set_ylabel('Values')\n",
    "ax.set_title('Stacked Bar Chart Example')\n",
    "\n",
    "# Adding readable labels\n",
    "ax.legend()\n",
    "plt.xticks(rotation=45, ha='right')  # Rotate category labels if needed\n",
    "plt.tight_layout()  # Adjust layout to make sure everything fits\n",
    "\n",
    "# Show the plot\n",
    "plt.show()"
   ],
   "outputs": [
    {
     "data": {
      "text/plain": [
       "<Figure size 640x480 with 1 Axes>"
      ],
      "image/png": "[encoded data removed]"
     },
     "metadata": {},
     "output_type": "display_data"
    }
   ],
   "execution_count": 1
  },
  {
   "metadata": {
    "ExecuteTime": {
     "end_time": "2024-08-10T18:24:20.179006Z",
     "start_time": "2024-08-10T18:24:20.164858Z"
    }
   },
   "cell_type": "code",
   "source": [
    "import altair as alt\n",
    "import pandas as pd\n",
    "\n",
    "# Data\n",
    "data = pd.DataFrame({\n",
    "    'Segment': ['Segment 1', 'Segment 2', 'Segment 3'],\n",
    "    'Value': [15, 25, 35]\n",
    "})\n",
    "\n",
    "# Add a column to group everything into one bar\n",
    "data['SingleBar'] = 'Total'\n",
    "\n",
    "# Base chart for the stacked bar\n",
    "base = alt.Chart(data).mark_bar().encode(\n",
    "    x=alt.X('Value:Q', stack='zero', axis=None),  # Stack the values\n",
    "    y=alt.Y('SingleBar:N', axis=None),  # Single category for the y-axis\n",
    "    color=alt.Color('Segment:N', scale=alt.Scale(range=['#1f77b4', '#ff7f0e', '#2ca02c'])),\n",
    ")\n",
    "\n",
    "# Adding labels outside the bars\n",
    "text = base.mark_text(\n",
    "    align='left',\n",
    "    baseline='middle',\n",
    "    dx=3  # Offset the text to be outside the bar\n",
    ").encode(\n",
    "    text=alt.Text('Segment:N')\n",
    ")\n",
    "\n",
    "# Combine the bar chart and the text labels\n",
    "chart = (base + text).properties(\n",
    "    width=400,\n",
    "    height=100,\n",
    "    title=alt.TitleParams('Professional Stacked Bar Chart', fontSize=16, fontWeight='bold')\n",
    ").configure_view(\n",
    "    strokeWidth=0  # Removes the border around the chart\n",
    ")\n",
    "\n",
    "# Display the chart\n",
    "chart.show()"
   ],
   "id": "fabbb68591fa5710",
   "outputs": [
    {
     "data": {
      "text/html": [
       "\n",
       "<style>\n",
       "  #altair-viz-44e2e70d8d60407194514546e8ded0cf.vega-embed {\n",
       "    width: 100%;\n",
       "    display: flex;\n",
       "  }\n",
       "\n",
       "  #altair-viz-44e2e70d8d60407194514546e8ded0cf.vega-embed details,\n",
       "  #altair-viz-44e2e70d8d60407194514546e8ded0cf.vega-embed details summary {\n",
       "    position: relative;\n",
       "  }\n",
       "</style>\n",
       "<div id=\"altair-viz-44e2e70d8d60407194514546e8ded0cf\"></div>\n",
       "<script type=\"text/javascript\">\n",
       "  var VEGA_DEBUG = (typeof VEGA_DEBUG == \"undefined\") ? {} : VEGA_DEBUG;\n",
       "  (function(spec, embedOpt){\n",
       "    let outputDiv = document.currentScript.previousElementSibling;\n",
       "    if (outputDiv.id !== \"altair-viz-44e2e70d8d60407194514546e8ded0cf\") {\n",
       "      outputDiv = document.getElementById(\"altair-viz-44e2e70d8d60407194514546e8ded0cf\");\n",
       "    }\n",
       "    const paths = {\n",
       "      \"vega\": \"https://cdn.jsdelivr.net/npm/vega@5?noext\",\n",
       "      \"vega-lib\": \"https://cdn.jsdelivr.net/npm/vega-lib?noext\",\n",
       "      \"vega-lite\": \"https://cdn.jsdelivr.net/npm/vega-lite@5.17.0?noext\",\n",
       "      \"vega-embed\": \"https://cdn.jsdelivr.net/npm/vega-embed@6?noext\",\n",
       "    };\n",
       "\n",
       "    function maybeLoadScript(lib, version) {\n",
       "      var key = `${lib.replace(\"-\", \"\")}_version`;\n",
       "      return (VEGA_DEBUG[key] == version) ?\n",
       "        Promise.resolve(paths[lib]) :\n",
       "        new Promise(function(resolve, reject) {\n",
       "          var s = document.createElement('script');\n",
       "          document.getElementsByTagName(\"head\")[0].appendChild(s);\n",
       "          s.async = true;\n",
       "          s.onload = () => {\n",
       "            VEGA_DEBUG[key] = version;\n",
       "            return resolve(paths[lib]);\n",
       "          };\n",
       "          s.onerror = () => reject(`Error loading script: ${paths[lib]}`);\n",
       "          s.src = paths[lib];\n",
       "        });\n",
       "    }\n",
       "\n",
       "    function showError(err) {\n",
       "      outputDiv.innerHTML = `<div class=\"error\" style=\"color:red;\">${err}</div>`;\n",
       "      throw err;\n",
       "    }\n",
       "\n",
       "    function displayChart(vegaEmbed) {\n",
       "      vegaEmbed(outputDiv, spec, embedOpt)\n",
       "        .catch(err => showError(`Javascript Error: ${err.message}<br>This usually means there's a typo in your chart specification. See the javascript console for the full traceback.`));\n",
       "    }\n",
       "\n",
       "    if(typeof define === \"function\" && define.amd) {\n",
       "      requirejs.config({paths});\n",
       "      require([\"vega-embed\"], displayChart, err => showError(`Error loading script: ${err.message}`));\n",
       "    } else {\n",
       "      maybeLoadScript(\"vega\", \"5\")\n",
       "        .then(() => maybeLoadScript(\"vega-lite\", \"5.17.0\"))\n",
       "        .then(() => maybeLoadScript(\"vega-embed\", \"6\"))\n",
       "        .catch(showError)\n",
       "        .then(() => displayChart(vegaEmbed));\n",
       "    }\n",
       "  })({\"config\": {\"view\": {\"continuousWidth\": 300, \"continuousHeight\": 300, \"strokeWidth\": 0}}, \"layer\": [{\"mark\": {\"type\": \"bar\"}, \"encoding\": {\"color\": {\"field\": \"Segment\", \"scale\": {\"range\": [\"#1f77b4\", \"#ff7f0e\", \"#2ca02c\"]}, \"type\": \"nominal\"}, \"x\": {\"axis\": null, \"field\": \"Value\", \"stack\": \"zero\", \"type\": \"quantitative\"}, \"y\": {\"axis\": null, \"field\": \"SingleBar\", \"type\": \"nominal\"}}}, {\"mark\": {\"type\": \"text\", \"align\": \"left\", \"baseline\": \"middle\", \"dx\": 3}, \"encoding\": {\"color\": {\"field\": \"Segment\", \"scale\": {\"range\": [\"#1f77b4\", \"#ff7f0e\", \"#2ca02c\"]}, \"type\": \"nominal\"}, \"text\": {\"field\": \"Segment\", \"type\": \"nominal\"}, \"x\": {\"axis\": null, \"field\": \"Value\", \"stack\": \"zero\", \"type\": \"quantitative\"}, \"y\": {\"axis\": null, \"field\": \"SingleBar\", \"type\": \"nominal\"}}}], \"data\": {\"name\": \"data-0c1b7e83b4cf3ca120924f340483a755\"}, \"height\": 100, \"title\": {\"text\": \"Professional Stacked Bar Chart\", \"fontSize\": 16, \"fontWeight\": \"bold\"}, \"width\": 400, \"$schema\": \"https://vega.github.io/schema/vega-lite/v5.17.0.json\", \"datasets\": {\"data-0c1b7e83b4cf3ca120924f340483a755\": [{\"Segment\": \"Segment 1\", \"Value\": 15, \"SingleBar\": \"Total\"}, {\"Segment\": \"Segment 2\", \"Value\": 25, \"SingleBar\": \"Total\"}, {\"Segment\": \"Segment 3\", \"Value\": 35, \"SingleBar\": \"Total\"}]}}, {\"mode\": \"vega-lite\"});\n",
       "</script>"
      ],
      "text/plain": [
       "alt.LayerChart(...)"
      ]
     },
     "metadata": {},
     "output_type": "display_data"
    }
   ],
   "execution_count": 13
  },
  {
   "metadata": {},
   "cell_type": "code",
   "outputs": [],
   "execution_count": null,
   "source": "",
   "id": "6fd011a1ff193570"
  }
 ],
 "metadata": {
  "kernelspec": {
   "display_name": "Python 3",
   "language": "python",
   "name": "python3"
  },
  "language_info": {
   "codemirror_mode": {
    "name": "ipython",
    "version": 2
   },
   "file_extension": ".py",
   "mimetype": "text/x-python",
   "name": "python",
   "nbconvert_exporter": "python",
   "pygments_lexer": "ipython2",
   "version": "2.7.6"
  }
 },
 "nbformat": 4,
 "nbformat_minor": 5
}
