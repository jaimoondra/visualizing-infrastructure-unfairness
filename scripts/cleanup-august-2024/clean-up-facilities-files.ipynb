{
 "cells": [
  {
   "cell_type": "code",
   "id": "initial_id",
   "metadata": {
    "collapsed": true,
    "ExecuteTime": {
     "end_time": "2024-08-10T12:51:43.305085Z",
     "start_time": "2024-08-10T12:51:42.780677Z"
    }
   },
   "source": [
    "import csv\n",
    "import geopandas as gpd\n",
    "import logging\n",
    "import math\n",
    "import matplotlib.pyplot as plt\n",
    "import numpy as np\n",
    "import os\n",
    "import pandas as pd\n",
    "from shapely.geometry import Point\n",
    "from shapely import wkt\n",
    "from src.usa.constants import *\n",
    "from src.constants import *\n",
    "import streamlit as st\n",
    "from src.usa.facilities import CVS, Walmart, Walgreens, PharmaciesTop3, Pharmacies, Hospitals, UrgentCare, DialysisCenters, ChildCare, NursingHomes, FedEx, UPS, DHL, PrivateSchools, PublicRefrigeratedWarehouses, FDICInsuredBanks\n"
   ],
   "outputs": [],
   "execution_count": 1
  },
  {
   "metadata": {
    "ExecuteTime": {
     "end_time": "2024-08-10T12:54:06.341380Z",
     "start_time": "2024-08-10T12:54:06.338236Z"
    }
   },
   "cell_type": "code",
   "source": "os.chdir('../..')",
   "id": "3dffc28ed96e5e08",
   "outputs": [],
   "execution_count": 3
  },
  {
   "metadata": {
    "ExecuteTime": {
     "end_time": "2024-08-10T12:59:03.409433Z",
     "start_time": "2024-08-10T12:58:59.217204Z"
    }
   },
   "cell_type": "code",
   "source": [
    "for facility in [CVS, Walmart, Walgreens, PharmaciesTop3, Pharmacies, Hospitals, UrgentCare, DialysisCenters, ChildCare, NursingHomes, FedEx, UPS, DHL, PrivateSchools, PublicRefrigeratedWarehouses, FDICInsuredBanks]:\n",
    "    df = pd.read_csv(os.path.join('data', 'usa', 'existing_facilities', 'abridged_' + facility.name + '.csv'))\n",
    "    if 'Unnamed: 0' in df.columns:\n",
    "        print('Dropping column Unnamed: 0 from ' + facility.name)\n",
    "        df = df.drop(columns=['Unnamed: 0'])\n",
    "    df['geometry'] = df['geometry'].apply(wkt.loads)\n",
    "    df = gpd.GeoDataFrame(df, geometry='geometry', crs=projection_wgs84)\n",
    "\n",
    "    dir = os.path.join('data', 'usa', 'existing_facilities', facility.name)\n",
    "    if not os.path.exists(dir):\n",
    "        os.makedirs(dir)\n",
    "\n",
    "    df.to_csv(os.path.join('data', 'usa', 'existing_facilities', facility.name, 'abridged_facilities.csv'), index=False)\n",
    "    "
   ],
   "id": "ebe5a28af961a7b7",
   "outputs": [
    {
     "name": "stdout",
     "output_type": "stream",
     "text": [
      "Dropping column Unnamed: 0 from pharmacies\n",
      "Dropping column Unnamed: 0 from hospitals\n",
      "Dropping column Unnamed: 0 from urgentcare_centers\n",
      "Dropping column Unnamed: 0 from dialysis_centers\n",
      "Dropping column Unnamed: 0 from childcare_centers\n",
      "Dropping column Unnamed: 0 from nursing_homes\n",
      "Dropping column Unnamed: 0 from fedex_facilities\n",
      "Dropping column Unnamed: 0 from ups_facilities\n",
      "Dropping column Unnamed: 0 from dhl_facilities\n",
      "Dropping column Unnamed: 0 from private_schools\n",
      "Dropping column Unnamed: 0 from public_refrigerated_warehouses\n",
      "Dropping column Unnamed: 0 from fdic_insured_banks\n"
     ]
    }
   ],
   "execution_count": 12
  },
  {
   "metadata": {
    "ExecuteTime": {
     "end_time": "2024-08-10T12:54:08.334509Z",
     "start_time": "2024-08-10T12:54:08.326334Z"
    }
   },
   "cell_type": "code",
   "source": "df",
   "id": "b9b553dd1e3a46b7",
   "outputs": [
    {
     "data": {
      "text/plain": [
       "       Unnamed: 0 STATE                      geometry\n",
       "0               0    CT  POINT (-72.878648 41.601435)\n",
       "1               1    ME  POINT (-70.256668 43.657432)\n",
       "2               2    ME  POINT (-68.424621 44.541326)\n",
       "3               3    MA  POINT (-71.057959 42.352824)\n",
       "4               4    MA  POINT (-71.118913 42.373832)\n",
       "...           ...   ...                           ...\n",
       "88058       88058    FL  POINT (-82.372153 29.614166)\n",
       "88059       88059    MO  POINT (-90.436247 38.672542)\n",
       "88060       88060    WV   POINT (-79.92148 39.651497)\n",
       "88061       88061    WV  POINT (-80.226518 38.983763)\n",
       "88062       88062    OR  POINT (-123.088238 44.04405)\n",
       "\n",
       "[88063 rows x 3 columns]"
      ],
      "text/html": [
       "<div>\n",
       "<style scoped>\n",
       "    .dataframe tbody tr th:only-of-type {\n",
       "        vertical-align: middle;\n",
       "    }\n",
       "\n",
       "    .dataframe tbody tr th {\n",
       "        vertical-align: top;\n",
       "    }\n",
       "\n",
       "    .dataframe thead th {\n",
       "        text-align: right;\n",
       "    }\n",
       "</style>\n",
       "<table border=\"1\" class=\"dataframe\">\n",
       "  <thead>\n",
       "    <tr style=\"text-align: right;\">\n",
       "      <th></th>\n",
       "      <th>Unnamed: 0</th>\n",
       "      <th>STATE</th>\n",
       "      <th>geometry</th>\n",
       "    </tr>\n",
       "  </thead>\n",
       "  <tbody>\n",
       "    <tr>\n",
       "      <th>0</th>\n",
       "      <td>0</td>\n",
       "      <td>CT</td>\n",
       "      <td>POINT (-72.878648 41.601435)</td>\n",
       "    </tr>\n",
       "    <tr>\n",
       "      <th>1</th>\n",
       "      <td>1</td>\n",
       "      <td>ME</td>\n",
       "      <td>POINT (-70.256668 43.657432)</td>\n",
       "    </tr>\n",
       "    <tr>\n",
       "      <th>2</th>\n",
       "      <td>2</td>\n",
       "      <td>ME</td>\n",
       "      <td>POINT (-68.424621 44.541326)</td>\n",
       "    </tr>\n",
       "    <tr>\n",
       "      <th>3</th>\n",
       "      <td>3</td>\n",
       "      <td>MA</td>\n",
       "      <td>POINT (-71.057959 42.352824)</td>\n",
       "    </tr>\n",
       "    <tr>\n",
       "      <th>4</th>\n",
       "      <td>4</td>\n",
       "      <td>MA</td>\n",
       "      <td>POINT (-71.118913 42.373832)</td>\n",
       "    </tr>\n",
       "    <tr>\n",
       "      <th>...</th>\n",
       "      <td>...</td>\n",
       "      <td>...</td>\n",
       "      <td>...</td>\n",
       "    </tr>\n",
       "    <tr>\n",
       "      <th>88058</th>\n",
       "      <td>88058</td>\n",
       "      <td>FL</td>\n",
       "      <td>POINT (-82.372153 29.614166)</td>\n",
       "    </tr>\n",
       "    <tr>\n",
       "      <th>88059</th>\n",
       "      <td>88059</td>\n",
       "      <td>MO</td>\n",
       "      <td>POINT (-90.436247 38.672542)</td>\n",
       "    </tr>\n",
       "    <tr>\n",
       "      <th>88060</th>\n",
       "      <td>88060</td>\n",
       "      <td>WV</td>\n",
       "      <td>POINT (-79.92148 39.651497)</td>\n",
       "    </tr>\n",
       "    <tr>\n",
       "      <th>88061</th>\n",
       "      <td>88061</td>\n",
       "      <td>WV</td>\n",
       "      <td>POINT (-80.226518 38.983763)</td>\n",
       "    </tr>\n",
       "    <tr>\n",
       "      <th>88062</th>\n",
       "      <td>88062</td>\n",
       "      <td>OR</td>\n",
       "      <td>POINT (-123.088238 44.04405)</td>\n",
       "    </tr>\n",
       "  </tbody>\n",
       "</table>\n",
       "<p>88063 rows × 3 columns</p>\n",
       "</div>"
      ]
     },
     "execution_count": 5,
     "metadata": {},
     "output_type": "execute_result"
    }
   ],
   "execution_count": 5
  },
  {
   "metadata": {},
   "cell_type": "code",
   "outputs": [],
   "execution_count": null,
   "source": "",
   "id": "5e839865af71f4c6"
  }
 ],
 "metadata": {
  "kernelspec": {
   "display_name": "Python 3",
   "language": "python",
   "name": "python3"
  },
  "language_info": {
   "codemirror_mode": {
    "name": "ipython",
    "version": 2
   },
   "file_extension": ".py",
   "mimetype": "text/x-python",
   "name": "python",
   "nbconvert_exporter": "python",
   "pygments_lexer": "ipython2",
   "version": "2.7.6"
  }
 },
 "nbformat": 4,
 "nbformat_minor": 5
}
