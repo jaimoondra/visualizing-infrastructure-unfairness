{
 "cells": [
  {
   "cell_type": "code",
   "id": "initial_id",
   "metadata": {
    "collapsed": true,
    "ExecuteTime": {
     "end_time": "2024-07-13T19:54:54.019063Z",
     "start_time": "2024-07-13T19:54:53.926096Z"
    }
   },
   "source": [
    "import numpy as np\n",
    "import plotly.graph_objects as go\n",
    "\n",
    "np.random.seed(0)\n"
   ],
   "outputs": [],
   "execution_count": 1
  },
  {
   "metadata": {
    "ExecuteTime": {
     "end_time": "2024-07-13T20:10:34.717965Z",
     "start_time": "2024-07-13T20:10:34.712044Z"
    }
   },
   "cell_type": "code",
   "source": [
    "points = np.random.uniform(0, 1, (100, 2))\n",
    "\n",
    "indices1 = np.random.choice(range(100), 25, replace=False)\n",
    "indices2 = np.random.choice(range(100), 25, replace=False)\n",
    "indices3 = np.random.choice(range(100), 25, replace=False)\n",
    "indices4 = np.random.choice(range(100), 25, replace=False)\n",
    "\n",
    "points1 = points[indices1]\n",
    "points2 = points[indices2]\n",
    "points3 = points[indices3]\n",
    "points4 = points[indices4]\n"
   ],
   "id": "f2df965cf2dec548",
   "outputs": [],
   "execution_count": 40
  },
  {
   "metadata": {
    "ExecuteTime": {
     "end_time": "2024-07-13T20:17:08.900362Z",
     "start_time": "2024-07-13T20:17:08.854929Z"
    }
   },
   "cell_type": "code",
   "source": [
    "fig = go.Figure()\n",
    "\n",
    "for i in range(100):\n",
    "    if i in indices4:\n",
    "        fillcolor='lightgreen'\n",
    "        color = 'green'\n",
    "    else:\n",
    "        fillcolor = 'grey'\n",
    "        color = 'black'\n",
    "    \n",
    "    if i in indices1:\n",
    "        fig.add_trace(go.Scatter(\n",
    "            x=[points[i, 0]], \n",
    "            y=[points[i, 1]],\n",
    "            mode='markers',\n",
    "            marker=dict(\n",
    "                size=10,\n",
    "                color=fillcolor,\n",
    "            ),\n",
    "        ))\n",
    "        \n",
    "    if i in indices2:\n",
    "        fig.add_trace(go.Scatter(\n",
    "            x=[points[i, 0]], \n",
    "            y=[points[i, 1]],\n",
    "            mode='markers',\n",
    "            marker=dict(\n",
    "                size=10,\n",
    "                color='rgba(0, 0, 0, 0)',\n",
    "                line=dict(\n",
    "                    color=color,\n",
    "                    width=2,\n",
    "                ),\n",
    "            ),\n",
    "        ))\n",
    "\n",
    "    if i in indices3:\n",
    "        fig.add_trace(go.Scatter(\n",
    "            x=[points[i, 0]], \n",
    "            y=[points[i, 1]],\n",
    "            mode='markers',\n",
    "            marker=dict(\n",
    "                size=12,\n",
    "                symbol='diamond-open',\n",
    "                color=color,\n",
    "            ),\n",
    "            line=dict(\n",
    "                color=color,\n",
    "                width=2,\n",
    "            ),\n",
    "        ))\n",
    "\n",
    "\n",
    "fig.update_layout(\n",
    "    xaxis=dict(\n",
    "        range=[0, 1],\n",
    "        showgrid=False,\n",
    "        showline=False,\n",
    "        showticklabels=False,\n",
    "    ),\n",
    "    yaxis=dict(\n",
    "        range=[0, 1],\n",
    "        showgrid=False,\n",
    "        showline=False,\n",
    "        showticklabels=False,\n",
    "    ),\n",
    "    showlegend=False,\n",
    "    margin=dict(\n",
    "        l=0,\n",
    "        r=0,\n",
    "        b=0,\n",
    "        t=0,\n",
    "    ),\n",
    "    width=500,\n",
    "    height=500,\n",
    ")\n"
   ],
   "id": "a2bb2fb90b38e43b",
   "outputs": [
    {
     "data": {
      "application/vnd.plotly.v1+json": {
       "data": [
        {
         "marker": {
          "color": "rgba(0, 0, 0, 0)",
          "line": {
           "color": "black",
           "width": 2
          },
          "size": 10
         },
         "mode": "markers",
         "x": [
          0.5394115402984094
         ],
         "y": [
          0.7985062259191423
         ],
         "type": "scatter"
        },
        {
         "marker": {
          "color": "lightgreen",
          "size": 10
         },
         "mode": "markers",
         "x": [
          0.5074194259831594
         ],
         "y": [
          0.3176776998875843
         ],
         "type": "scatter"
        },
        {
         "marker": {
          "color": "rgba(0, 0, 0, 0)",
          "line": {
           "color": "green",
           "width": 2
          },
          "size": 10
         },
         "mode": "markers",
         "x": [
          0.5074194259831594
         ],
         "y": [
          0.3176776998875843
         ],
         "type": "scatter"
        },
        {
         "line": {
          "color": "green",
          "width": 2
         },
         "marker": {
          "color": "green",
          "size": 12,
          "symbol": "diamond-open"
         },
         "mode": "markers",
         "x": [
          0.5074194259831594
         ],
         "y": [
          0.3176776998875843
         ],
         "type": "scatter"
        },
        {
         "marker": {
          "color": "grey",
          "size": 10
         },
         "mode": "markers",
         "x": [
          0.7635613995653769
         ],
         "y": [
          0.5352794164866904
         ],
         "type": "scatter"
        },
        {
         "line": {
          "color": "black",
          "width": 2
         },
         "marker": {
          "color": "black",
          "size": 12,
          "symbol": "diamond-open"
         },
         "mode": "markers",
         "x": [
          0.47265137013721503
         ],
         "y": [
          0.16314005570643486
         ],
         "type": "scatter"
        },
        {
         "marker": {
          "color": "rgba(0, 0, 0, 0)",
          "line": {
           "color": "green",
           "width": 2
          },
          "size": 10
         },
         "mode": "markers",
         "x": [
          0.8832113289210228
         ],
         "y": [
          0.29100308261746377
         ],
         "type": "scatter"
        },
        {
         "line": {
          "color": "green",
          "width": 2
         },
         "marker": {
          "color": "green",
          "size": 12,
          "symbol": "diamond-open"
         },
         "mode": "markers",
         "x": [
          0.8832113289210228
         ],
         "y": [
          0.29100308261746377
         ],
         "type": "scatter"
        },
        {
         "marker": {
          "color": "grey",
          "size": 10
         },
         "mode": "markers",
         "x": [
          0.8052135063923417
         ],
         "y": [
          0.08507248969652048
         ],
         "type": "scatter"
        },
        {
         "marker": {
          "color": "rgba(0, 0, 0, 0)",
          "line": {
           "color": "black",
           "width": 2
          },
          "size": 10
         },
         "mode": "markers",
         "x": [
          0.8052135063923417
         ],
         "y": [
          0.08507248969652048
         ],
         "type": "scatter"
        },
        {
         "line": {
          "color": "green",
          "width": 2
         },
         "marker": {
          "color": "green",
          "size": 12,
          "symbol": "diamond-open"
         },
         "mode": "markers",
         "x": [
          0.9545140550907806
         ],
         "y": [
          0.23228120146035702
         ],
         "type": "scatter"
        },
        {
         "marker": {
          "color": "grey",
          "size": 10
         },
         "mode": "markers",
         "x": [
          0.3912336883219607
         ],
         "y": [
          0.6798048578169192
         ],
         "type": "scatter"
        },
        {
         "line": {
          "color": "black",
          "width": 2
         },
         "marker": {
          "color": "black",
          "size": 12,
          "symbol": "diamond-open"
         },
         "mode": "markers",
         "x": [
          0.8251401303337348
         ],
         "y": [
          0.9184283806972462
         ],
         "type": "scatter"
        },
        {
         "marker": {
          "color": "rgba(0, 0, 0, 0)",
          "line": {
           "color": "black",
           "width": 2
          },
          "size": 10
         },
         "mode": "markers",
         "x": [
          0.9340454801154846
         ],
         "y": [
          0.8440110806958175
         ],
         "type": "scatter"
        },
        {
         "marker": {
          "color": "grey",
          "size": 10
         },
         "mode": "markers",
         "x": [
          0.8177214001692419
         ],
         "y": [
          0.26657548407169696
         ],
         "type": "scatter"
        },
        {
         "marker": {
          "color": "rgba(0, 0, 0, 0)",
          "line": {
           "color": "green",
           "width": 2
          },
          "size": 10
         },
         "mode": "markers",
         "x": [
          0.26303019063166533
         ],
         "y": [
          0.8278091641672511
         ],
         "type": "scatter"
        },
        {
         "line": {
          "color": "green",
          "width": 2
         },
         "marker": {
          "color": "green",
          "size": 12,
          "symbol": "diamond-open"
         },
         "mode": "markers",
         "x": [
          0.26303019063166533
         ],
         "y": [
          0.8278091641672511
         ],
         "type": "scatter"
        },
        {
         "marker": {
          "color": "rgba(0, 0, 0, 0)",
          "line": {
           "color": "black",
           "width": 2
          },
          "size": 10
         },
         "mode": "markers",
         "x": [
          0.041459726258092466
         ],
         "y": [
          0.7929842276774121
         ],
         "type": "scatter"
        },
        {
         "line": {
          "color": "black",
          "width": 2
         },
         "marker": {
          "color": "black",
          "size": 12,
          "symbol": "diamond-open"
         },
         "mode": "markers",
         "x": [
          0.041459726258092466
         ],
         "y": [
          0.7929842276774121
         ],
         "type": "scatter"
        },
        {
         "marker": {
          "color": "rgba(0, 0, 0, 0)",
          "line": {
           "color": "black",
           "width": 2
          },
          "size": 10
         },
         "mode": "markers",
         "x": [
          0.7437233627478793
         ],
         "y": [
          0.8416654024926405
         ],
         "type": "scatter"
        },
        {
         "marker": {
          "color": "grey",
          "size": 10
         },
         "mode": "markers",
         "x": [
          0.0959966111262539
         ],
         "y": [
          0.14863865744651605
         ],
         "type": "scatter"
        },
        {
         "marker": {
          "color": "lightgreen",
          "size": 10
         },
         "mode": "markers",
         "x": [
          0.6505115927530312
         ],
         "y": [
          0.7077342266687348
         ],
         "type": "scatter"
        },
        {
         "marker": {
          "color": "grey",
          "size": 10
         },
         "mode": "markers",
         "x": [
          0.43753192803457674
         ],
         "y": [
          0.1276768936588405
         ],
         "type": "scatter"
        },
        {
         "marker": {
          "color": "grey",
          "size": 10
         },
         "mode": "markers",
         "x": [
          0.5516821915792726
         ],
         "y": [
          0.1265283254708761
         ],
         "type": "scatter"
        },
        {
         "line": {
          "color": "black",
          "width": 2
         },
         "marker": {
          "color": "black",
          "size": 12,
          "symbol": "diamond-open"
         },
         "mode": "markers",
         "x": [
          0.6253297139994269
         ],
         "y": [
          0.9326483769626166
         ],
         "type": "scatter"
        },
        {
         "marker": {
          "color": "rgba(0, 0, 0, 0)",
          "line": {
           "color": "black",
           "width": 2
          },
          "size": 10
         },
         "mode": "markers",
         "x": [
          0.3936683625640012
         ],
         "y": [
          0.40680259535860464
         ],
         "type": "scatter"
        },
        {
         "marker": {
          "color": "grey",
          "size": 10
         },
         "mode": "markers",
         "x": [
          0.5881557468105029
         ],
         "y": [
          0.9298126905389525
         ],
         "type": "scatter"
        },
        {
         "line": {
          "color": "black",
          "width": 2
         },
         "marker": {
          "color": "black",
          "size": 12,
          "symbol": "diamond-open"
         },
         "mode": "markers",
         "x": [
          0.46759596093378075
         ],
         "y": [
          0.12958747687319583
         ],
         "type": "scatter"
        },
        {
         "marker": {
          "color": "grey",
          "size": 10
         },
         "mode": "markers",
         "x": [
          0.8748477596981532
         ],
         "y": [
          0.7650185239572304
         ],
         "type": "scatter"
        },
        {
         "marker": {
          "color": "rgba(0, 0, 0, 0)",
          "line": {
           "color": "black",
           "width": 2
          },
          "size": 10
         },
         "mode": "markers",
         "x": [
          0.8748477596981532
         ],
         "y": [
          0.7650185239572304
         ],
         "type": "scatter"
        },
        {
         "marker": {
          "color": "grey",
          "size": 10
         },
         "mode": "markers",
         "x": [
          0.5549440840042869
         ],
         "y": [
          0.05295272533547046
         ],
         "type": "scatter"
        },
        {
         "marker": {
          "color": "rgba(0, 0, 0, 0)",
          "line": {
           "color": "black",
           "width": 2
          },
          "size": 10
         },
         "mode": "markers",
         "x": [
          0.5549440840042869
         ],
         "y": [
          0.05295272533547046
         ],
         "type": "scatter"
        },
        {
         "line": {
          "color": "black",
          "width": 2
         },
         "marker": {
          "color": "black",
          "size": 12,
          "symbol": "diamond-open"
         },
         "mode": "markers",
         "x": [
          0.3997994342725427
         ],
         "y": [
          0.36747376634952345
         ],
         "type": "scatter"
        },
        {
         "marker": {
          "color": "rgba(0, 0, 0, 0)",
          "line": {
           "color": "green",
           "width": 2
          },
          "size": 10
         },
         "mode": "markers",
         "x": [
          0.9722117794695305
         ],
         "y": [
          0.2854349904974961
         ],
         "type": "scatter"
        },
        {
         "marker": {
          "color": "rgba(0, 0, 0, 0)",
          "line": {
           "color": "black",
           "width": 2
          },
          "size": 10
         },
         "mode": "markers",
         "x": [
          0.20336771482402383
         ],
         "y": [
          0.9535637374420416
         ],
         "type": "scatter"
        },
        {
         "marker": {
          "color": "rgba(0, 0, 0, 0)",
          "line": {
           "color": "black",
           "width": 2
          },
          "size": 10
         },
         "mode": "markers",
         "x": [
          0.11788707381036179
         ],
         "y": [
          0.6105995560097909
         ],
         "type": "scatter"
        },
        {
         "marker": {
          "color": "rgba(0, 0, 0, 0)",
          "line": {
           "color": "black",
           "width": 2
          },
          "size": 10
         },
         "mode": "markers",
         "x": [
          0.38166146747698193
         ],
         "y": [
          0.24654981183789193
         ],
         "type": "scatter"
        },
        {
         "line": {
          "color": "black",
          "width": 2
         },
         "marker": {
          "color": "black",
          "size": 12,
          "symbol": "diamond-open"
         },
         "mode": "markers",
         "x": [
          0.38166146747698193
         ],
         "y": [
          0.24654981183789193
         ],
         "type": "scatter"
        },
        {
         "marker": {
          "color": "grey",
          "size": 10
         },
         "mode": "markers",
         "x": [
          0.24927280092612103
         ],
         "y": [
          0.4607212024075955
         ],
         "type": "scatter"
        },
        {
         "line": {
          "color": "black",
          "width": 2
         },
         "marker": {
          "color": "black",
          "size": 12,
          "symbol": "diamond-open"
         },
         "mode": "markers",
         "x": [
          0.24927280092612103
         ],
         "y": [
          0.4607212024075955
         ],
         "type": "scatter"
        },
        {
         "line": {
          "color": "black",
          "width": 2
         },
         "marker": {
          "color": "black",
          "size": 12,
          "symbol": "diamond-open"
         },
         "mode": "markers",
         "x": [
          0.4351532999067239
         ],
         "y": [
          0.8427188039341095
         ],
         "type": "scatter"
        },
        {
         "line": {
          "color": "black",
          "width": 2
         },
         "marker": {
          "color": "black",
          "size": 12,
          "symbol": "diamond-open"
         },
         "mode": "markers",
         "x": [
          0.0434428506079938
         ],
         "y": [
          0.6158352862426644
         ],
         "type": "scatter"
        },
        {
         "marker": {
          "color": "lightgreen",
          "size": 10
         },
         "mode": "markers",
         "x": [
          0.409834184388876
         ],
         "y": [
          0.6217038431683546
         ],
         "type": "scatter"
        },
        {
         "marker": {
          "color": "grey",
          "size": 10
         },
         "mode": "markers",
         "x": [
          0.7527189455502563
         ],
         "y": [
          0.1653027616655922
         ],
         "type": "scatter"
        },
        {
         "marker": {
          "color": "rgba(0, 0, 0, 0)",
          "line": {
           "color": "black",
           "width": 2
          },
          "size": 10
         },
         "mode": "markers",
         "x": [
          0.01045766016472538
         ],
         "y": [
          0.6576857558449818
         ],
         "type": "scatter"
        },
        {
         "marker": {
          "color": "grey",
          "size": 10
         },
         "mode": "markers",
         "x": [
          0.92926002703673
         ],
         "y": [
          0.04118848829736721
         ],
         "type": "scatter"
        },
        {
         "line": {
          "color": "black",
          "width": 2
         },
         "marker": {
          "color": "black",
          "size": 12,
          "symbol": "diamond-open"
         },
         "mode": "markers",
         "x": [
          0.92926002703673
         ],
         "y": [
          0.04118848829736721
         ],
         "type": "scatter"
        },
        {
         "marker": {
          "color": "rgba(0, 0, 0, 0)",
          "line": {
           "color": "black",
           "width": 2
          },
          "size": 10
         },
         "mode": "markers",
         "x": [
          0.568404168705749
         ],
         "y": [
          0.5622833016901861
         ],
         "type": "scatter"
        },
        {
         "line": {
          "color": "black",
          "width": 2
         },
         "marker": {
          "color": "black",
          "size": 12,
          "symbol": "diamond-open"
         },
         "mode": "markers",
         "x": [
          0.568404168705749
         ],
         "y": [
          0.5622833016901861
         ],
         "type": "scatter"
        },
        {
         "marker": {
          "color": "rgba(0, 0, 0, 0)",
          "line": {
           "color": "black",
           "width": 2
          },
          "size": 10
         },
         "mode": "markers",
         "x": [
          0.2916045542351364
         ],
         "y": [
          0.7285935271138902
         ],
         "type": "scatter"
        },
        {
         "line": {
          "color": "black",
          "width": 2
         },
         "marker": {
          "color": "black",
          "size": 12,
          "symbol": "diamond-open"
         },
         "mode": "markers",
         "x": [
          0.2916045542351364
         ],
         "y": [
          0.7285935271138902
         ],
         "type": "scatter"
        },
        {
         "line": {
          "color": "black",
          "width": 2
         },
         "marker": {
          "color": "black",
          "size": 12,
          "symbol": "diamond-open"
         },
         "mode": "markers",
         "x": [
          0.3450176827450373
         ],
         "y": [
          0.4230694302841209
         ],
         "type": "scatter"
        },
        {
         "marker": {
          "color": "rgba(0, 0, 0, 0)",
          "line": {
           "color": "green",
           "width": 2
          },
          "size": 10
         },
         "mode": "markers",
         "x": [
          0.8465878957008373
         ],
         "y": [
          0.9446664628465079
         ],
         "type": "scatter"
        },
        {
         "marker": {
          "color": "grey",
          "size": 10
         },
         "mode": "markers",
         "x": [
          0.19589413134833467
         ],
         "y": [
          0.5303734448866593
         ],
         "type": "scatter"
        },
        {
         "line": {
          "color": "black",
          "width": 2
         },
         "marker": {
          "color": "black",
          "size": 12,
          "symbol": "diamond-open"
         },
         "mode": "markers",
         "x": [
          0.19589413134833467
         ],
         "y": [
          0.5303734448866593
         ],
         "type": "scatter"
        },
        {
         "marker": {
          "color": "grey",
          "size": 10
         },
         "mode": "markers",
         "x": [
          0.590249808749402
         ],
         "y": [
          0.29706563605637715
         ],
         "type": "scatter"
        },
        {
         "marker": {
          "color": "rgba(0, 0, 0, 0)",
          "line": {
           "color": "black",
           "width": 2
          },
          "size": 10
         },
         "mode": "markers",
         "x": [
          0.590249808749402
         ],
         "y": [
          0.29706563605637715
         ],
         "type": "scatter"
        },
        {
         "line": {
          "color": "black",
          "width": 2
         },
         "marker": {
          "color": "black",
          "size": 12,
          "symbol": "diamond-open"
         },
         "mode": "markers",
         "x": [
          0.590249808749402
         ],
         "y": [
          0.29706563605637715
         ],
         "type": "scatter"
        },
        {
         "marker": {
          "color": "grey",
          "size": 10
         },
         "mode": "markers",
         "x": [
          0.4264887042759056
         ],
         "y": [
          0.46462378076737854
         ],
         "type": "scatter"
        },
        {
         "marker": {
          "color": "grey",
          "size": 10
         },
         "mode": "markers",
         "x": [
          0.7852081378291873
         ],
         "y": [
          0.7197413226892109
         ],
         "type": "scatter"
        },
        {
         "marker": {
          "color": "grey",
          "size": 10
         },
         "mode": "markers",
         "x": [
          0.1366036301910294
         ],
         "y": [
          0.022111266592547696
         ],
         "type": "scatter"
        },
        {
         "line": {
          "color": "black",
          "width": 2
         },
         "marker": {
          "color": "black",
          "size": 12,
          "symbol": "diamond-open"
         },
         "mode": "markers",
         "x": [
          0.1366036301910294
         ],
         "y": [
          0.022111266592547696
         ],
         "type": "scatter"
        },
        {
         "marker": {
          "color": "rgba(0, 0, 0, 0)",
          "line": {
           "color": "black",
           "width": 2
          },
          "size": 10
         },
         "mode": "markers",
         "x": [
          0.25133663550568797
         ],
         "y": [
          0.7807379287676339
         ],
         "type": "scatter"
        },
        {
         "line": {
          "color": "black",
          "width": 2
         },
         "marker": {
          "color": "black",
          "size": 12,
          "symbol": "diamond-open"
         },
         "mode": "markers",
         "x": [
          0.25133663550568797
         ],
         "y": [
          0.7807379287676339
         ],
         "type": "scatter"
        },
        {
         "line": {
          "color": "green",
          "width": 2
         },
         "marker": {
          "color": "green",
          "size": 12,
          "symbol": "diamond-open"
         },
         "mode": "markers",
         "x": [
          0.16933708637471456
         ],
         "y": [
          0.4952812769470908
         ],
         "type": "scatter"
        },
        {
         "marker": {
          "color": "lightgreen",
          "size": 10
         },
         "mode": "markers",
         "x": [
          0.059634523007332074
         ],
         "y": [
          0.30145856405234517
         ],
         "type": "scatter"
        },
        {
         "marker": {
          "color": "rgba(0, 0, 0, 0)",
          "line": {
           "color": "green",
           "width": 2
          },
          "size": 10
         },
         "mode": "markers",
         "x": [
          0.599273808113336
         ],
         "y": [
          0.753661384405934
         ],
         "type": "scatter"
        },
        {
         "line": {
          "color": "green",
          "width": 2
         },
         "marker": {
          "color": "green",
          "size": 12,
          "symbol": "diamond-open"
         },
         "mode": "markers",
         "x": [
          0.599273808113336
         ],
         "y": [
          0.753661384405934
         ],
         "type": "scatter"
        },
        {
         "marker": {
          "color": "rgba(0, 0, 0, 0)",
          "line": {
           "color": "green",
           "width": 2
          },
          "size": 10
         },
         "mode": "markers",
         "x": [
          0.835256419894349
         ],
         "y": [
          0.8564191834352677
         ],
         "type": "scatter"
        },
        {
         "marker": {
          "color": "rgba(0, 0, 0, 0)",
          "line": {
           "color": "black",
           "width": 2
          },
          "size": 10
         },
         "mode": "markers",
         "x": [
          0.7461503907379979
         ],
         "y": [
          0.6325122267265457
         ],
         "type": "scatter"
        },
        {
         "marker": {
          "color": "grey",
          "size": 10
         },
         "mode": "markers",
         "x": [
          0.9485189372835816
         ],
         "y": [
          0.2515555861359011
         ],
         "type": "scatter"
        },
        {
         "marker": {
          "color": "grey",
          "size": 10
         },
         "mode": "markers",
         "x": [
          0.5608895556222654
         ],
         "y": [
          0.04960344599431665
         ],
         "type": "scatter"
        },
        {
         "marker": {
          "color": "rgba(0, 0, 0, 0)",
          "line": {
           "color": "black",
           "width": 2
          },
          "size": 10
         },
         "mode": "markers",
         "x": [
          0.07691891823818342
         ],
         "y": [
          0.1555036006160907
         ],
         "type": "scatter"
        },
        {
         "line": {
          "color": "black",
          "width": 2
         },
         "marker": {
          "color": "black",
          "size": 12,
          "symbol": "diamond-open"
         },
         "mode": "markers",
         "x": [
          0.07691891823818342
         ],
         "y": [
          0.1555036006160907
         ],
         "type": "scatter"
        },
        {
         "marker": {
          "color": "grey",
          "size": 10
         },
         "mode": "markers",
         "x": [
          0.9137090200311103
         ],
         "y": [
          0.2791587970224291
         ],
         "type": "scatter"
        }
       ],
       "layout": {
        "template": {
         "data": {
          "histogram2dcontour": [
           {
            "type": "histogram2dcontour",
            "colorbar": {
             "outlinewidth": 0,
             "ticks": ""
            },
            "colorscale": [
             [
              0.0,
              "#0d0887"
             ],
             [
              0.1111111111111111,
              "#46039f"
             ],
             [
              0.2222222222222222,
              "#7201a8"
             ],
             [
              0.3333333333333333,
              "#9c179e"
             ],
             [
              0.4444444444444444,
              "#bd3786"
             ],
             [
              0.5555555555555556,
              "#d8576b"
             ],
             [
              0.6666666666666666,
              "#ed7953"
             ],
             [
              0.7777777777777778,
              "#fb9f3a"
             ],
             [
              0.8888888888888888,
              "#fdca26"
             ],
             [
              1.0,
              "#f0f921"
             ]
            ]
           }
          ],
          "choropleth": [
           {
            "type": "choropleth",
            "colorbar": {
             "outlinewidth": 0,
             "ticks": ""
            }
           }
          ],
          "histogram2d": [
           {
            "type": "histogram2d",
            "colorbar": {
             "outlinewidth": 0,
             "ticks": ""
            },
            "colorscale": [
             [
              0.0,
              "#0d0887"
             ],
             [
              0.1111111111111111,
              "#46039f"
             ],
             [
              0.2222222222222222,
              "#7201a8"
             ],
             [
              0.3333333333333333,
              "#9c179e"
             ],
             [
              0.4444444444444444,
              "#bd3786"
             ],
             [
              0.5555555555555556,
              "#d8576b"
             ],
             [
              0.6666666666666666,
              "#ed7953"
             ],
             [
              0.7777777777777778,
              "#fb9f3a"
             ],
             [
              0.8888888888888888,
              "#fdca26"
             ],
             [
              1.0,
              "#f0f921"
             ]
            ]
           }
          ],
          "heatmap": [
           {
            "type": "heatmap",
            "colorbar": {
             "outlinewidth": 0,
             "ticks": ""
            },
            "colorscale": [
             [
              0.0,
              "#0d0887"
             ],
             [
              0.1111111111111111,
              "#46039f"
             ],
             [
              0.2222222222222222,
              "#7201a8"
             ],
             [
              0.3333333333333333,
              "#9c179e"
             ],
             [
              0.4444444444444444,
              "#bd3786"
             ],
             [
              0.5555555555555556,
              "#d8576b"
             ],
             [
              0.6666666666666666,
              "#ed7953"
             ],
             [
              0.7777777777777778,
              "#fb9f3a"
             ],
             [
              0.8888888888888888,
              "#fdca26"
             ],
             [
              1.0,
              "#f0f921"
             ]
            ]
           }
          ],
          "heatmapgl": [
           {
            "type": "heatmapgl",
            "colorbar": {
             "outlinewidth": 0,
             "ticks": ""
            },
            "colorscale": [
             [
              0.0,
              "#0d0887"
             ],
             [
              0.1111111111111111,
              "#46039f"
             ],
             [
              0.2222222222222222,
              "#7201a8"
             ],
             [
              0.3333333333333333,
              "#9c179e"
             ],
             [
              0.4444444444444444,
              "#bd3786"
             ],
             [
              0.5555555555555556,
              "#d8576b"
             ],
             [
              0.6666666666666666,
              "#ed7953"
             ],
             [
              0.7777777777777778,
              "#fb9f3a"
             ],
             [
              0.8888888888888888,
              "#fdca26"
             ],
             [
              1.0,
              "#f0f921"
             ]
            ]
           }
          ],
          "contourcarpet": [
           {
            "type": "contourcarpet",
            "colorbar": {
             "outlinewidth": 0,
             "ticks": ""
            }
           }
          ],
          "contour": [
           {
            "type": "contour",
            "colorbar": {
             "outlinewidth": 0,
             "ticks": ""
            },
            "colorscale": [
             [
              0.0,
              "#0d0887"
             ],
             [
              0.1111111111111111,
              "#46039f"
             ],
             [
              0.2222222222222222,
              "#7201a8"
             ],
             [
              0.3333333333333333,
              "#9c179e"
             ],
             [
              0.4444444444444444,
              "#bd3786"
             ],
             [
              0.5555555555555556,
              "#d8576b"
             ],
             [
              0.6666666666666666,
              "#ed7953"
             ],
             [
              0.7777777777777778,
              "#fb9f3a"
             ],
             [
              0.8888888888888888,
              "#fdca26"
             ],
             [
              1.0,
              "#f0f921"
             ]
            ]
           }
          ],
          "surface": [
           {
            "type": "surface",
            "colorbar": {
             "outlinewidth": 0,
             "ticks": ""
            },
            "colorscale": [
             [
              0.0,
              "#0d0887"
             ],
             [
              0.1111111111111111,
              "#46039f"
             ],
             [
              0.2222222222222222,
              "#7201a8"
             ],
             [
              0.3333333333333333,
              "#9c179e"
             ],
             [
              0.4444444444444444,
              "#bd3786"
             ],
             [
              0.5555555555555556,
              "#d8576b"
             ],
             [
              0.6666666666666666,
              "#ed7953"
             ],
             [
              0.7777777777777778,
              "#fb9f3a"
             ],
             [
              0.8888888888888888,
              "#fdca26"
             ],
             [
              1.0,
              "#f0f921"
             ]
            ]
           }
          ],
          "mesh3d": [
           {
            "type": "mesh3d",
            "colorbar": {
             "outlinewidth": 0,
             "ticks": ""
            }
           }
          ],
          "scatter": [
           {
            "fillpattern": {
             "fillmode": "overlay",
             "size": 10,
             "solidity": 0.2
            },
            "type": "scatter"
           }
          ],
          "parcoords": [
           {
            "type": "parcoords",
            "line": {
             "colorbar": {
              "outlinewidth": 0,
              "ticks": ""
             }
            }
           }
          ],
          "scatterpolargl": [
           {
            "type": "scatterpolargl",
            "marker": {
             "colorbar": {
              "outlinewidth": 0,
              "ticks": ""
             }
            }
           }
          ],
          "bar": [
           {
            "error_x": {
             "color": "#2a3f5f"
            },
            "error_y": {
             "color": "#2a3f5f"
            },
            "marker": {
             "line": {
              "color": "#E5ECF6",
              "width": 0.5
             },
             "pattern": {
              "fillmode": "overlay",
              "size": 10,
              "solidity": 0.2
             }
            },
            "type": "bar"
           }
          ],
          "scattergeo": [
           {
            "type": "scattergeo",
            "marker": {
             "colorbar": {
              "outlinewidth": 0,
              "ticks": ""
             }
            }
           }
          ],
          "scatterpolar": [
           {
            "type": "scatterpolar",
            "marker": {
             "colorbar": {
              "outlinewidth": 0,
              "ticks": ""
             }
            }
           }
          ],
          "histogram": [
           {
            "marker": {
             "pattern": {
              "fillmode": "overlay",
              "size": 10,
              "solidity": 0.2
             }
            },
            "type": "histogram"
           }
          ],
          "scattergl": [
           {
            "type": "scattergl",
            "marker": {
             "colorbar": {
              "outlinewidth": 0,
              "ticks": ""
             }
            }
           }
          ],
          "scatter3d": [
           {
            "type": "scatter3d",
            "line": {
             "colorbar": {
              "outlinewidth": 0,
              "ticks": ""
             }
            },
            "marker": {
             "colorbar": {
              "outlinewidth": 0,
              "ticks": ""
             }
            }
           }
          ],
          "scattermapbox": [
           {
            "type": "scattermapbox",
            "marker": {
             "colorbar": {
              "outlinewidth": 0,
              "ticks": ""
             }
            }
           }
          ],
          "scatterternary": [
           {
            "type": "scatterternary",
            "marker": {
             "colorbar": {
              "outlinewidth": 0,
              "ticks": ""
             }
            }
           }
          ],
          "scattercarpet": [
           {
            "type": "scattercarpet",
            "marker": {
             "colorbar": {
              "outlinewidth": 0,
              "ticks": ""
             }
            }
           }
          ],
          "carpet": [
           {
            "aaxis": {
             "endlinecolor": "#2a3f5f",
             "gridcolor": "white",
             "linecolor": "white",
             "minorgridcolor": "white",
             "startlinecolor": "#2a3f5f"
            },
            "baxis": {
             "endlinecolor": "#2a3f5f",
             "gridcolor": "white",
             "linecolor": "white",
             "minorgridcolor": "white",
             "startlinecolor": "#2a3f5f"
            },
            "type": "carpet"
           }
          ],
          "table": [
           {
            "cells": {
             "fill": {
              "color": "#EBF0F8"
             },
             "line": {
              "color": "white"
             }
            },
            "header": {
             "fill": {
              "color": "#C8D4E3"
             },
             "line": {
              "color": "white"
             }
            },
            "type": "table"
           }
          ],
          "barpolar": [
           {
            "marker": {
             "line": {
              "color": "#E5ECF6",
              "width": 0.5
             },
             "pattern": {
              "fillmode": "overlay",
              "size": 10,
              "solidity": 0.2
             }
            },
            "type": "barpolar"
           }
          ],
          "pie": [
           {
            "automargin": true,
            "type": "pie"
           }
          ]
         },
         "layout": {
          "autotypenumbers": "strict",
          "colorway": [
           "#636efa",
           "#EF553B",
           "#00cc96",
           "#ab63fa",
           "#FFA15A",
           "#19d3f3",
           "#FF6692",
           "#B6E880",
           "#FF97FF",
           "#FECB52"
          ],
          "font": {
           "color": "#2a3f5f"
          },
          "hovermode": "closest",
          "hoverlabel": {
           "align": "left"
          },
          "paper_bgcolor": "white",
          "plot_bgcolor": "#E5ECF6",
          "polar": {
           "bgcolor": "#E5ECF6",
           "angularaxis": {
            "gridcolor": "white",
            "linecolor": "white",
            "ticks": ""
           },
           "radialaxis": {
            "gridcolor": "white",
            "linecolor": "white",
            "ticks": ""
           }
          },
          "ternary": {
           "bgcolor": "#E5ECF6",
           "aaxis": {
            "gridcolor": "white",
            "linecolor": "white",
            "ticks": ""
           },
           "baxis": {
            "gridcolor": "white",
            "linecolor": "white",
            "ticks": ""
           },
           "caxis": {
            "gridcolor": "white",
            "linecolor": "white",
            "ticks": ""
           }
          },
          "coloraxis": {
           "colorbar": {
            "outlinewidth": 0,
            "ticks": ""
           }
          },
          "colorscale": {
           "sequential": [
            [
             0.0,
             "#0d0887"
            ],
            [
             0.1111111111111111,
             "#46039f"
            ],
            [
             0.2222222222222222,
             "#7201a8"
            ],
            [
             0.3333333333333333,
             "#9c179e"
            ],
            [
             0.4444444444444444,
             "#bd3786"
            ],
            [
             0.5555555555555556,
             "#d8576b"
            ],
            [
             0.6666666666666666,
             "#ed7953"
            ],
            [
             0.7777777777777778,
             "#fb9f3a"
            ],
            [
             0.8888888888888888,
             "#fdca26"
            ],
            [
             1.0,
             "#f0f921"
            ]
           ],
           "sequentialminus": [
            [
             0.0,
             "#0d0887"
            ],
            [
             0.1111111111111111,
             "#46039f"
            ],
            [
             0.2222222222222222,
             "#7201a8"
            ],
            [
             0.3333333333333333,
             "#9c179e"
            ],
            [
             0.4444444444444444,
             "#bd3786"
            ],
            [
             0.5555555555555556,
             "#d8576b"
            ],
            [
             0.6666666666666666,
             "#ed7953"
            ],
            [
             0.7777777777777778,
             "#fb9f3a"
            ],
            [
             0.8888888888888888,
             "#fdca26"
            ],
            [
             1.0,
             "#f0f921"
            ]
           ],
           "diverging": [
            [
             0,
             "#8e0152"
            ],
            [
             0.1,
             "#c51b7d"
            ],
            [
             0.2,
             "#de77ae"
            ],
            [
             0.3,
             "#f1b6da"
            ],
            [
             0.4,
             "#fde0ef"
            ],
            [
             0.5,
             "#f7f7f7"
            ],
            [
             0.6,
             "#e6f5d0"
            ],
            [
             0.7,
             "#b8e186"
            ],
            [
             0.8,
             "#7fbc41"
            ],
            [
             0.9,
             "#4d9221"
            ],
            [
             1,
             "#276419"
            ]
           ]
          },
          "xaxis": {
           "gridcolor": "white",
           "linecolor": "white",
           "ticks": "",
           "title": {
            "standoff": 15
           },
           "zerolinecolor": "white",
           "automargin": true,
           "zerolinewidth": 2
          },
          "yaxis": {
           "gridcolor": "white",
           "linecolor": "white",
           "ticks": "",
           "title": {
            "standoff": 15
           },
           "zerolinecolor": "white",
           "automargin": true,
           "zerolinewidth": 2
          },
          "scene": {
           "xaxis": {
            "backgroundcolor": "#E5ECF6",
            "gridcolor": "white",
            "linecolor": "white",
            "showbackground": true,
            "ticks": "",
            "zerolinecolor": "white",
            "gridwidth": 2
           },
           "yaxis": {
            "backgroundcolor": "#E5ECF6",
            "gridcolor": "white",
            "linecolor": "white",
            "showbackground": true,
            "ticks": "",
            "zerolinecolor": "white",
            "gridwidth": 2
           },
           "zaxis": {
            "backgroundcolor": "#E5ECF6",
            "gridcolor": "white",
            "linecolor": "white",
            "showbackground": true,
            "ticks": "",
            "zerolinecolor": "white",
            "gridwidth": 2
           }
          },
          "shapedefaults": {
           "line": {
            "color": "#2a3f5f"
           }
          },
          "annotationdefaults": {
           "arrowcolor": "#2a3f5f",
           "arrowhead": 0,
           "arrowwidth": 1
          },
          "geo": {
           "bgcolor": "white",
           "landcolor": "#E5ECF6",
           "subunitcolor": "white",
           "showland": true,
           "showlakes": true,
           "lakecolor": "white"
          },
          "title": {
           "x": 0.05
          },
          "mapbox": {
           "style": "light"
          }
         }
        },
        "xaxis": {
         "range": [
          0,
          1
         ],
         "showgrid": false,
         "showline": false,
         "showticklabels": false
        },
        "yaxis": {
         "range": [
          0,
          1
         ],
         "showgrid": false,
         "showline": false,
         "showticklabels": false
        },
        "margin": {
         "l": 0,
         "r": 0,
         "b": 0,
         "t": 0
        },
        "showlegend": false,
        "width": 500,
        "height": 500
       },
       "config": {
        "plotlyServerURL": "https://plot.ly"
       }
      },
      "text/html": [
       "<div>                            <div id=\"d488716d-cef5-4563-834c-9ca1f7003743\" class=\"plotly-graph-div\" style=\"height:500px; width:500px;\"></div>            <script type=\"text/javascript\">                require([\"plotly\"], function(Plotly) {                    window.PLOTLYENV=window.PLOTLYENV || {};                                    if (document.getElementById(\"d488716d-cef5-4563-834c-9ca1f7003743\")) {                    Plotly.newPlot(                        \"d488716d-cef5-4563-834c-9ca1f7003743\",                        [{\"marker\":{\"color\":\"rgba(0, 0, 0, 0)\",\"line\":{\"color\":\"black\",\"width\":2},\"size\":10},\"mode\":\"markers\",\"x\":[0.5394115402984094],\"y\":[0.7985062259191423],\"type\":\"scatter\"},{\"marker\":{\"color\":\"lightgreen\",\"size\":10},\"mode\":\"markers\",\"x\":[0.5074194259831594],\"y\":[0.3176776998875843],\"type\":\"scatter\"},{\"marker\":{\"color\":\"rgba(0, 0, 0, 0)\",\"line\":{\"color\":\"green\",\"width\":2},\"size\":10},\"mode\":\"markers\",\"x\":[0.5074194259831594],\"y\":[0.3176776998875843],\"type\":\"scatter\"},{\"line\":{\"color\":\"green\",\"width\":2},\"marker\":{\"color\":\"green\",\"size\":12,\"symbol\":\"diamond-open\"},\"mode\":\"markers\",\"x\":[0.5074194259831594],\"y\":[0.3176776998875843],\"type\":\"scatter\"},{\"marker\":{\"color\":\"grey\",\"size\":10},\"mode\":\"markers\",\"x\":[0.7635613995653769],\"y\":[0.5352794164866904],\"type\":\"scatter\"},{\"line\":{\"color\":\"black\",\"width\":2},\"marker\":{\"color\":\"black\",\"size\":12,\"symbol\":\"diamond-open\"},\"mode\":\"markers\",\"x\":[0.47265137013721503],\"y\":[0.16314005570643486],\"type\":\"scatter\"},{\"marker\":{\"color\":\"rgba(0, 0, 0, 0)\",\"line\":{\"color\":\"green\",\"width\":2},\"size\":10},\"mode\":\"markers\",\"x\":[0.8832113289210228],\"y\":[0.29100308261746377],\"type\":\"scatter\"},{\"line\":{\"color\":\"green\",\"width\":2},\"marker\":{\"color\":\"green\",\"size\":12,\"symbol\":\"diamond-open\"},\"mode\":\"markers\",\"x\":[0.8832113289210228],\"y\":[0.29100308261746377],\"type\":\"scatter\"},{\"marker\":{\"color\":\"grey\",\"size\":10},\"mode\":\"markers\",\"x\":[0.8052135063923417],\"y\":[0.08507248969652048],\"type\":\"scatter\"},{\"marker\":{\"color\":\"rgba(0, 0, 0, 0)\",\"line\":{\"color\":\"black\",\"width\":2},\"size\":10},\"mode\":\"markers\",\"x\":[0.8052135063923417],\"y\":[0.08507248969652048],\"type\":\"scatter\"},{\"line\":{\"color\":\"green\",\"width\":2},\"marker\":{\"color\":\"green\",\"size\":12,\"symbol\":\"diamond-open\"},\"mode\":\"markers\",\"x\":[0.9545140550907806],\"y\":[0.23228120146035702],\"type\":\"scatter\"},{\"marker\":{\"color\":\"grey\",\"size\":10},\"mode\":\"markers\",\"x\":[0.3912336883219607],\"y\":[0.6798048578169192],\"type\":\"scatter\"},{\"line\":{\"color\":\"black\",\"width\":2},\"marker\":{\"color\":\"black\",\"size\":12,\"symbol\":\"diamond-open\"},\"mode\":\"markers\",\"x\":[0.8251401303337348],\"y\":[0.9184283806972462],\"type\":\"scatter\"},{\"marker\":{\"color\":\"rgba(0, 0, 0, 0)\",\"line\":{\"color\":\"black\",\"width\":2},\"size\":10},\"mode\":\"markers\",\"x\":[0.9340454801154846],\"y\":[0.8440110806958175],\"type\":\"scatter\"},{\"marker\":{\"color\":\"grey\",\"size\":10},\"mode\":\"markers\",\"x\":[0.8177214001692419],\"y\":[0.26657548407169696],\"type\":\"scatter\"},{\"marker\":{\"color\":\"rgba(0, 0, 0, 0)\",\"line\":{\"color\":\"green\",\"width\":2},\"size\":10},\"mode\":\"markers\",\"x\":[0.26303019063166533],\"y\":[0.8278091641672511],\"type\":\"scatter\"},{\"line\":{\"color\":\"green\",\"width\":2},\"marker\":{\"color\":\"green\",\"size\":12,\"symbol\":\"diamond-open\"},\"mode\":\"markers\",\"x\":[0.26303019063166533],\"y\":[0.8278091641672511],\"type\":\"scatter\"},{\"marker\":{\"color\":\"rgba(0, 0, 0, 0)\",\"line\":{\"color\":\"black\",\"width\":2},\"size\":10},\"mode\":\"markers\",\"x\":[0.041459726258092466],\"y\":[0.7929842276774121],\"type\":\"scatter\"},{\"line\":{\"color\":\"black\",\"width\":2},\"marker\":{\"color\":\"black\",\"size\":12,\"symbol\":\"diamond-open\"},\"mode\":\"markers\",\"x\":[0.041459726258092466],\"y\":[0.7929842276774121],\"type\":\"scatter\"},{\"marker\":{\"color\":\"rgba(0, 0, 0, 0)\",\"line\":{\"color\":\"black\",\"width\":2},\"size\":10},\"mode\":\"markers\",\"x\":[0.7437233627478793],\"y\":[0.8416654024926405],\"type\":\"scatter\"},{\"marker\":{\"color\":\"grey\",\"size\":10},\"mode\":\"markers\",\"x\":[0.0959966111262539],\"y\":[0.14863865744651605],\"type\":\"scatter\"},{\"marker\":{\"color\":\"lightgreen\",\"size\":10},\"mode\":\"markers\",\"x\":[0.6505115927530312],\"y\":[0.7077342266687348],\"type\":\"scatter\"},{\"marker\":{\"color\":\"grey\",\"size\":10},\"mode\":\"markers\",\"x\":[0.43753192803457674],\"y\":[0.1276768936588405],\"type\":\"scatter\"},{\"marker\":{\"color\":\"grey\",\"size\":10},\"mode\":\"markers\",\"x\":[0.5516821915792726],\"y\":[0.1265283254708761],\"type\":\"scatter\"},{\"line\":{\"color\":\"black\",\"width\":2},\"marker\":{\"color\":\"black\",\"size\":12,\"symbol\":\"diamond-open\"},\"mode\":\"markers\",\"x\":[0.6253297139994269],\"y\":[0.9326483769626166],\"type\":\"scatter\"},{\"marker\":{\"color\":\"rgba(0, 0, 0, 0)\",\"line\":{\"color\":\"black\",\"width\":2},\"size\":10},\"mode\":\"markers\",\"x\":[0.3936683625640012],\"y\":[0.40680259535860464],\"type\":\"scatter\"},{\"marker\":{\"color\":\"grey\",\"size\":10},\"mode\":\"markers\",\"x\":[0.5881557468105029],\"y\":[0.9298126905389525],\"type\":\"scatter\"},{\"line\":{\"color\":\"black\",\"width\":2},\"marker\":{\"color\":\"black\",\"size\":12,\"symbol\":\"diamond-open\"},\"mode\":\"markers\",\"x\":[0.46759596093378075],\"y\":[0.12958747687319583],\"type\":\"scatter\"},{\"marker\":{\"color\":\"grey\",\"size\":10},\"mode\":\"markers\",\"x\":[0.8748477596981532],\"y\":[0.7650185239572304],\"type\":\"scatter\"},{\"marker\":{\"color\":\"rgba(0, 0, 0, 0)\",\"line\":{\"color\":\"black\",\"width\":2},\"size\":10},\"mode\":\"markers\",\"x\":[0.8748477596981532],\"y\":[0.7650185239572304],\"type\":\"scatter\"},{\"marker\":{\"color\":\"grey\",\"size\":10},\"mode\":\"markers\",\"x\":[0.5549440840042869],\"y\":[0.05295272533547046],\"type\":\"scatter\"},{\"marker\":{\"color\":\"rgba(0, 0, 0, 0)\",\"line\":{\"color\":\"black\",\"width\":2},\"size\":10},\"mode\":\"markers\",\"x\":[0.5549440840042869],\"y\":[0.05295272533547046],\"type\":\"scatter\"},{\"line\":{\"color\":\"black\",\"width\":2},\"marker\":{\"color\":\"black\",\"size\":12,\"symbol\":\"diamond-open\"},\"mode\":\"markers\",\"x\":[0.3997994342725427],\"y\":[0.36747376634952345],\"type\":\"scatter\"},{\"marker\":{\"color\":\"rgba(0, 0, 0, 0)\",\"line\":{\"color\":\"green\",\"width\":2},\"size\":10},\"mode\":\"markers\",\"x\":[0.9722117794695305],\"y\":[0.2854349904974961],\"type\":\"scatter\"},{\"marker\":{\"color\":\"rgba(0, 0, 0, 0)\",\"line\":{\"color\":\"black\",\"width\":2},\"size\":10},\"mode\":\"markers\",\"x\":[0.20336771482402383],\"y\":[0.9535637374420416],\"type\":\"scatter\"},{\"marker\":{\"color\":\"rgba(0, 0, 0, 0)\",\"line\":{\"color\":\"black\",\"width\":2},\"size\":10},\"mode\":\"markers\",\"x\":[0.11788707381036179],\"y\":[0.6105995560097909],\"type\":\"scatter\"},{\"marker\":{\"color\":\"rgba(0, 0, 0, 0)\",\"line\":{\"color\":\"black\",\"width\":2},\"size\":10},\"mode\":\"markers\",\"x\":[0.38166146747698193],\"y\":[0.24654981183789193],\"type\":\"scatter\"},{\"line\":{\"color\":\"black\",\"width\":2},\"marker\":{\"color\":\"black\",\"size\":12,\"symbol\":\"diamond-open\"},\"mode\":\"markers\",\"x\":[0.38166146747698193],\"y\":[0.24654981183789193],\"type\":\"scatter\"},{\"marker\":{\"color\":\"grey\",\"size\":10},\"mode\":\"markers\",\"x\":[0.24927280092612103],\"y\":[0.4607212024075955],\"type\":\"scatter\"},{\"line\":{\"color\":\"black\",\"width\":2},\"marker\":{\"color\":\"black\",\"size\":12,\"symbol\":\"diamond-open\"},\"mode\":\"markers\",\"x\":[0.24927280092612103],\"y\":[0.4607212024075955],\"type\":\"scatter\"},{\"line\":{\"color\":\"black\",\"width\":2},\"marker\":{\"color\":\"black\",\"size\":12,\"symbol\":\"diamond-open\"},\"mode\":\"markers\",\"x\":[0.4351532999067239],\"y\":[0.8427188039341095],\"type\":\"scatter\"},{\"line\":{\"color\":\"black\",\"width\":2},\"marker\":{\"color\":\"black\",\"size\":12,\"symbol\":\"diamond-open\"},\"mode\":\"markers\",\"x\":[0.0434428506079938],\"y\":[0.6158352862426644],\"type\":\"scatter\"},{\"marker\":{\"color\":\"lightgreen\",\"size\":10},\"mode\":\"markers\",\"x\":[0.409834184388876],\"y\":[0.6217038431683546],\"type\":\"scatter\"},{\"marker\":{\"color\":\"grey\",\"size\":10},\"mode\":\"markers\",\"x\":[0.7527189455502563],\"y\":[0.1653027616655922],\"type\":\"scatter\"},{\"marker\":{\"color\":\"rgba(0, 0, 0, 0)\",\"line\":{\"color\":\"black\",\"width\":2},\"size\":10},\"mode\":\"markers\",\"x\":[0.01045766016472538],\"y\":[0.6576857558449818],\"type\":\"scatter\"},{\"marker\":{\"color\":\"grey\",\"size\":10},\"mode\":\"markers\",\"x\":[0.92926002703673],\"y\":[0.04118848829736721],\"type\":\"scatter\"},{\"line\":{\"color\":\"black\",\"width\":2},\"marker\":{\"color\":\"black\",\"size\":12,\"symbol\":\"diamond-open\"},\"mode\":\"markers\",\"x\":[0.92926002703673],\"y\":[0.04118848829736721],\"type\":\"scatter\"},{\"marker\":{\"color\":\"rgba(0, 0, 0, 0)\",\"line\":{\"color\":\"black\",\"width\":2},\"size\":10},\"mode\":\"markers\",\"x\":[0.568404168705749],\"y\":[0.5622833016901861],\"type\":\"scatter\"},{\"line\":{\"color\":\"black\",\"width\":2},\"marker\":{\"color\":\"black\",\"size\":12,\"symbol\":\"diamond-open\"},\"mode\":\"markers\",\"x\":[0.568404168705749],\"y\":[0.5622833016901861],\"type\":\"scatter\"},{\"marker\":{\"color\":\"rgba(0, 0, 0, 0)\",\"line\":{\"color\":\"black\",\"width\":2},\"size\":10},\"mode\":\"markers\",\"x\":[0.2916045542351364],\"y\":[0.7285935271138902],\"type\":\"scatter\"},{\"line\":{\"color\":\"black\",\"width\":2},\"marker\":{\"color\":\"black\",\"size\":12,\"symbol\":\"diamond-open\"},\"mode\":\"markers\",\"x\":[0.2916045542351364],\"y\":[0.7285935271138902],\"type\":\"scatter\"},{\"line\":{\"color\":\"black\",\"width\":2},\"marker\":{\"color\":\"black\",\"size\":12,\"symbol\":\"diamond-open\"},\"mode\":\"markers\",\"x\":[0.3450176827450373],\"y\":[0.4230694302841209],\"type\":\"scatter\"},{\"marker\":{\"color\":\"rgba(0, 0, 0, 0)\",\"line\":{\"color\":\"green\",\"width\":2},\"size\":10},\"mode\":\"markers\",\"x\":[0.8465878957008373],\"y\":[0.9446664628465079],\"type\":\"scatter\"},{\"marker\":{\"color\":\"grey\",\"size\":10},\"mode\":\"markers\",\"x\":[0.19589413134833467],\"y\":[0.5303734448866593],\"type\":\"scatter\"},{\"line\":{\"color\":\"black\",\"width\":2},\"marker\":{\"color\":\"black\",\"size\":12,\"symbol\":\"diamond-open\"},\"mode\":\"markers\",\"x\":[0.19589413134833467],\"y\":[0.5303734448866593],\"type\":\"scatter\"},{\"marker\":{\"color\":\"grey\",\"size\":10},\"mode\":\"markers\",\"x\":[0.590249808749402],\"y\":[0.29706563605637715],\"type\":\"scatter\"},{\"marker\":{\"color\":\"rgba(0, 0, 0, 0)\",\"line\":{\"color\":\"black\",\"width\":2},\"size\":10},\"mode\":\"markers\",\"x\":[0.590249808749402],\"y\":[0.29706563605637715],\"type\":\"scatter\"},{\"line\":{\"color\":\"black\",\"width\":2},\"marker\":{\"color\":\"black\",\"size\":12,\"symbol\":\"diamond-open\"},\"mode\":\"markers\",\"x\":[0.590249808749402],\"y\":[0.29706563605637715],\"type\":\"scatter\"},{\"marker\":{\"color\":\"grey\",\"size\":10},\"mode\":\"markers\",\"x\":[0.4264887042759056],\"y\":[0.46462378076737854],\"type\":\"scatter\"},{\"marker\":{\"color\":\"grey\",\"size\":10},\"mode\":\"markers\",\"x\":[0.7852081378291873],\"y\":[0.7197413226892109],\"type\":\"scatter\"},{\"marker\":{\"color\":\"grey\",\"size\":10},\"mode\":\"markers\",\"x\":[0.1366036301910294],\"y\":[0.022111266592547696],\"type\":\"scatter\"},{\"line\":{\"color\":\"black\",\"width\":2},\"marker\":{\"color\":\"black\",\"size\":12,\"symbol\":\"diamond-open\"},\"mode\":\"markers\",\"x\":[0.1366036301910294],\"y\":[0.022111266592547696],\"type\":\"scatter\"},{\"marker\":{\"color\":\"rgba(0, 0, 0, 0)\",\"line\":{\"color\":\"black\",\"width\":2},\"size\":10},\"mode\":\"markers\",\"x\":[0.25133663550568797],\"y\":[0.7807379287676339],\"type\":\"scatter\"},{\"line\":{\"color\":\"black\",\"width\":2},\"marker\":{\"color\":\"black\",\"size\":12,\"symbol\":\"diamond-open\"},\"mode\":\"markers\",\"x\":[0.25133663550568797],\"y\":[0.7807379287676339],\"type\":\"scatter\"},{\"line\":{\"color\":\"green\",\"width\":2},\"marker\":{\"color\":\"green\",\"size\":12,\"symbol\":\"diamond-open\"},\"mode\":\"markers\",\"x\":[0.16933708637471456],\"y\":[0.4952812769470908],\"type\":\"scatter\"},{\"marker\":{\"color\":\"lightgreen\",\"size\":10},\"mode\":\"markers\",\"x\":[0.059634523007332074],\"y\":[0.30145856405234517],\"type\":\"scatter\"},{\"marker\":{\"color\":\"rgba(0, 0, 0, 0)\",\"line\":{\"color\":\"green\",\"width\":2},\"size\":10},\"mode\":\"markers\",\"x\":[0.599273808113336],\"y\":[0.753661384405934],\"type\":\"scatter\"},{\"line\":{\"color\":\"green\",\"width\":2},\"marker\":{\"color\":\"green\",\"size\":12,\"symbol\":\"diamond-open\"},\"mode\":\"markers\",\"x\":[0.599273808113336],\"y\":[0.753661384405934],\"type\":\"scatter\"},{\"marker\":{\"color\":\"rgba(0, 0, 0, 0)\",\"line\":{\"color\":\"green\",\"width\":2},\"size\":10},\"mode\":\"markers\",\"x\":[0.835256419894349],\"y\":[0.8564191834352677],\"type\":\"scatter\"},{\"marker\":{\"color\":\"rgba(0, 0, 0, 0)\",\"line\":{\"color\":\"black\",\"width\":2},\"size\":10},\"mode\":\"markers\",\"x\":[0.7461503907379979],\"y\":[0.6325122267265457],\"type\":\"scatter\"},{\"marker\":{\"color\":\"grey\",\"size\":10},\"mode\":\"markers\",\"x\":[0.9485189372835816],\"y\":[0.2515555861359011],\"type\":\"scatter\"},{\"marker\":{\"color\":\"grey\",\"size\":10},\"mode\":\"markers\",\"x\":[0.5608895556222654],\"y\":[0.04960344599431665],\"type\":\"scatter\"},{\"marker\":{\"color\":\"rgba(0, 0, 0, 0)\",\"line\":{\"color\":\"black\",\"width\":2},\"size\":10},\"mode\":\"markers\",\"x\":[0.07691891823818342],\"y\":[0.1555036006160907],\"type\":\"scatter\"},{\"line\":{\"color\":\"black\",\"width\":2},\"marker\":{\"color\":\"black\",\"size\":12,\"symbol\":\"diamond-open\"},\"mode\":\"markers\",\"x\":[0.07691891823818342],\"y\":[0.1555036006160907],\"type\":\"scatter\"},{\"marker\":{\"color\":\"grey\",\"size\":10},\"mode\":\"markers\",\"x\":[0.9137090200311103],\"y\":[0.2791587970224291],\"type\":\"scatter\"}],                        {\"template\":{\"data\":{\"histogram2dcontour\":[{\"type\":\"histogram2dcontour\",\"colorbar\":{\"outlinewidth\":0,\"ticks\":\"\"},\"colorscale\":[[0.0,\"#0d0887\"],[0.1111111111111111,\"#46039f\"],[0.2222222222222222,\"#7201a8\"],[0.3333333333333333,\"#9c179e\"],[0.4444444444444444,\"#bd3786\"],[0.5555555555555556,\"#d8576b\"],[0.6666666666666666,\"#ed7953\"],[0.7777777777777778,\"#fb9f3a\"],[0.8888888888888888,\"#fdca26\"],[1.0,\"#f0f921\"]]}],\"choropleth\":[{\"type\":\"choropleth\",\"colorbar\":{\"outlinewidth\":0,\"ticks\":\"\"}}],\"histogram2d\":[{\"type\":\"histogram2d\",\"colorbar\":{\"outlinewidth\":0,\"ticks\":\"\"},\"colorscale\":[[0.0,\"#0d0887\"],[0.1111111111111111,\"#46039f\"],[0.2222222222222222,\"#7201a8\"],[0.3333333333333333,\"#9c179e\"],[0.4444444444444444,\"#bd3786\"],[0.5555555555555556,\"#d8576b\"],[0.6666666666666666,\"#ed7953\"],[0.7777777777777778,\"#fb9f3a\"],[0.8888888888888888,\"#fdca26\"],[1.0,\"#f0f921\"]]}],\"heatmap\":[{\"type\":\"heatmap\",\"colorbar\":{\"outlinewidth\":0,\"ticks\":\"\"},\"colorscale\":[[0.0,\"#0d0887\"],[0.1111111111111111,\"#46039f\"],[0.2222222222222222,\"#7201a8\"],[0.3333333333333333,\"#9c179e\"],[0.4444444444444444,\"#bd3786\"],[0.5555555555555556,\"#d8576b\"],[0.6666666666666666,\"#ed7953\"],[0.7777777777777778,\"#fb9f3a\"],[0.8888888888888888,\"#fdca26\"],[1.0,\"#f0f921\"]]}],\"heatmapgl\":[{\"type\":\"heatmapgl\",\"colorbar\":{\"outlinewidth\":0,\"ticks\":\"\"},\"colorscale\":[[0.0,\"#0d0887\"],[0.1111111111111111,\"#46039f\"],[0.2222222222222222,\"#7201a8\"],[0.3333333333333333,\"#9c179e\"],[0.4444444444444444,\"#bd3786\"],[0.5555555555555556,\"#d8576b\"],[0.6666666666666666,\"#ed7953\"],[0.7777777777777778,\"#fb9f3a\"],[0.8888888888888888,\"#fdca26\"],[1.0,\"#f0f921\"]]}],\"contourcarpet\":[{\"type\":\"contourcarpet\",\"colorbar\":{\"outlinewidth\":0,\"ticks\":\"\"}}],\"contour\":[{\"type\":\"contour\",\"colorbar\":{\"outlinewidth\":0,\"ticks\":\"\"},\"colorscale\":[[0.0,\"#0d0887\"],[0.1111111111111111,\"#46039f\"],[0.2222222222222222,\"#7201a8\"],[0.3333333333333333,\"#9c179e\"],[0.4444444444444444,\"#bd3786\"],[0.5555555555555556,\"#d8576b\"],[0.6666666666666666,\"#ed7953\"],[0.7777777777777778,\"#fb9f3a\"],[0.8888888888888888,\"#fdca26\"],[1.0,\"#f0f921\"]]}],\"surface\":[{\"type\":\"surface\",\"colorbar\":{\"outlinewidth\":0,\"ticks\":\"\"},\"colorscale\":[[0.0,\"#0d0887\"],[0.1111111111111111,\"#46039f\"],[0.2222222222222222,\"#7201a8\"],[0.3333333333333333,\"#9c179e\"],[0.4444444444444444,\"#bd3786\"],[0.5555555555555556,\"#d8576b\"],[0.6666666666666666,\"#ed7953\"],[0.7777777777777778,\"#fb9f3a\"],[0.8888888888888888,\"#fdca26\"],[1.0,\"#f0f921\"]]}],\"mesh3d\":[{\"type\":\"mesh3d\",\"colorbar\":{\"outlinewidth\":0,\"ticks\":\"\"}}],\"scatter\":[{\"fillpattern\":{\"fillmode\":\"overlay\",\"size\":10,\"solidity\":0.2},\"type\":\"scatter\"}],\"parcoords\":[{\"type\":\"parcoords\",\"line\":{\"colorbar\":{\"outlinewidth\":0,\"ticks\":\"\"}}}],\"scatterpolargl\":[{\"type\":\"scatterpolargl\",\"marker\":{\"colorbar\":{\"outlinewidth\":0,\"ticks\":\"\"}}}],\"bar\":[{\"error_x\":{\"color\":\"#2a3f5f\"},\"error_y\":{\"color\":\"#2a3f5f\"},\"marker\":{\"line\":{\"color\":\"#E5ECF6\",\"width\":0.5},\"pattern\":{\"fillmode\":\"overlay\",\"size\":10,\"solidity\":0.2}},\"type\":\"bar\"}],\"scattergeo\":[{\"type\":\"scattergeo\",\"marker\":{\"colorbar\":{\"outlinewidth\":0,\"ticks\":\"\"}}}],\"scatterpolar\":[{\"type\":\"scatterpolar\",\"marker\":{\"colorbar\":{\"outlinewidth\":0,\"ticks\":\"\"}}}],\"histogram\":[{\"marker\":{\"pattern\":{\"fillmode\":\"overlay\",\"size\":10,\"solidity\":0.2}},\"type\":\"histogram\"}],\"scattergl\":[{\"type\":\"scattergl\",\"marker\":{\"colorbar\":{\"outlinewidth\":0,\"ticks\":\"\"}}}],\"scatter3d\":[{\"type\":\"scatter3d\",\"line\":{\"colorbar\":{\"outlinewidth\":0,\"ticks\":\"\"}},\"marker\":{\"colorbar\":{\"outlinewidth\":0,\"ticks\":\"\"}}}],\"scattermapbox\":[{\"type\":\"scattermapbox\",\"marker\":{\"colorbar\":{\"outlinewidth\":0,\"ticks\":\"\"}}}],\"scatterternary\":[{\"type\":\"scatterternary\",\"marker\":{\"colorbar\":{\"outlinewidth\":0,\"ticks\":\"\"}}}],\"scattercarpet\":[{\"type\":\"scattercarpet\",\"marker\":{\"colorbar\":{\"outlinewidth\":0,\"ticks\":\"\"}}}],\"carpet\":[{\"aaxis\":{\"endlinecolor\":\"#2a3f5f\",\"gridcolor\":\"white\",\"linecolor\":\"white\",\"minorgridcolor\":\"white\",\"startlinecolor\":\"#2a3f5f\"},\"baxis\":{\"endlinecolor\":\"#2a3f5f\",\"gridcolor\":\"white\",\"linecolor\":\"white\",\"minorgridcolor\":\"white\",\"startlinecolor\":\"#2a3f5f\"},\"type\":\"carpet\"}],\"table\":[{\"cells\":{\"fill\":{\"color\":\"#EBF0F8\"},\"line\":{\"color\":\"white\"}},\"header\":{\"fill\":{\"color\":\"#C8D4E3\"},\"line\":{\"color\":\"white\"}},\"type\":\"table\"}],\"barpolar\":[{\"marker\":{\"line\":{\"color\":\"#E5ECF6\",\"width\":0.5},\"pattern\":{\"fillmode\":\"overlay\",\"size\":10,\"solidity\":0.2}},\"type\":\"barpolar\"}],\"pie\":[{\"automargin\":true,\"type\":\"pie\"}]},\"layout\":{\"autotypenumbers\":\"strict\",\"colorway\":[\"#636efa\",\"#EF553B\",\"#00cc96\",\"#ab63fa\",\"#FFA15A\",\"#19d3f3\",\"#FF6692\",\"#B6E880\",\"#FF97FF\",\"#FECB52\"],\"font\":{\"color\":\"#2a3f5f\"},\"hovermode\":\"closest\",\"hoverlabel\":{\"align\":\"left\"},\"paper_bgcolor\":\"white\",\"plot_bgcolor\":\"#E5ECF6\",\"polar\":{\"bgcolor\":\"#E5ECF6\",\"angularaxis\":{\"gridcolor\":\"white\",\"linecolor\":\"white\",\"ticks\":\"\"},\"radialaxis\":{\"gridcolor\":\"white\",\"linecolor\":\"white\",\"ticks\":\"\"}},\"ternary\":{\"bgcolor\":\"#E5ECF6\",\"aaxis\":{\"gridcolor\":\"white\",\"linecolor\":\"white\",\"ticks\":\"\"},\"baxis\":{\"gridcolor\":\"white\",\"linecolor\":\"white\",\"ticks\":\"\"},\"caxis\":{\"gridcolor\":\"white\",\"linecolor\":\"white\",\"ticks\":\"\"}},\"coloraxis\":{\"colorbar\":{\"outlinewidth\":0,\"ticks\":\"\"}},\"colorscale\":{\"sequential\":[[0.0,\"#0d0887\"],[0.1111111111111111,\"#46039f\"],[0.2222222222222222,\"#7201a8\"],[0.3333333333333333,\"#9c179e\"],[0.4444444444444444,\"#bd3786\"],[0.5555555555555556,\"#d8576b\"],[0.6666666666666666,\"#ed7953\"],[0.7777777777777778,\"#fb9f3a\"],[0.8888888888888888,\"#fdca26\"],[1.0,\"#f0f921\"]],\"sequentialminus\":[[0.0,\"#0d0887\"],[0.1111111111111111,\"#46039f\"],[0.2222222222222222,\"#7201a8\"],[0.3333333333333333,\"#9c179e\"],[0.4444444444444444,\"#bd3786\"],[0.5555555555555556,\"#d8576b\"],[0.6666666666666666,\"#ed7953\"],[0.7777777777777778,\"#fb9f3a\"],[0.8888888888888888,\"#fdca26\"],[1.0,\"#f0f921\"]],\"diverging\":[[0,\"#8e0152\"],[0.1,\"#c51b7d\"],[0.2,\"#de77ae\"],[0.3,\"#f1b6da\"],[0.4,\"#fde0ef\"],[0.5,\"#f7f7f7\"],[0.6,\"#e6f5d0\"],[0.7,\"#b8e186\"],[0.8,\"#7fbc41\"],[0.9,\"#4d9221\"],[1,\"#276419\"]]},\"xaxis\":{\"gridcolor\":\"white\",\"linecolor\":\"white\",\"ticks\":\"\",\"title\":{\"standoff\":15},\"zerolinecolor\":\"white\",\"automargin\":true,\"zerolinewidth\":2},\"yaxis\":{\"gridcolor\":\"white\",\"linecolor\":\"white\",\"ticks\":\"\",\"title\":{\"standoff\":15},\"zerolinecolor\":\"white\",\"automargin\":true,\"zerolinewidth\":2},\"scene\":{\"xaxis\":{\"backgroundcolor\":\"#E5ECF6\",\"gridcolor\":\"white\",\"linecolor\":\"white\",\"showbackground\":true,\"ticks\":\"\",\"zerolinecolor\":\"white\",\"gridwidth\":2},\"yaxis\":{\"backgroundcolor\":\"#E5ECF6\",\"gridcolor\":\"white\",\"linecolor\":\"white\",\"showbackground\":true,\"ticks\":\"\",\"zerolinecolor\":\"white\",\"gridwidth\":2},\"zaxis\":{\"backgroundcolor\":\"#E5ECF6\",\"gridcolor\":\"white\",\"linecolor\":\"white\",\"showbackground\":true,\"ticks\":\"\",\"zerolinecolor\":\"white\",\"gridwidth\":2}},\"shapedefaults\":{\"line\":{\"color\":\"#2a3f5f\"}},\"annotationdefaults\":{\"arrowcolor\":\"#2a3f5f\",\"arrowhead\":0,\"arrowwidth\":1},\"geo\":{\"bgcolor\":\"white\",\"landcolor\":\"#E5ECF6\",\"subunitcolor\":\"white\",\"showland\":true,\"showlakes\":true,\"lakecolor\":\"white\"},\"title\":{\"x\":0.05},\"mapbox\":{\"style\":\"light\"}}},\"xaxis\":{\"range\":[0,1],\"showgrid\":false,\"showline\":false,\"showticklabels\":false},\"yaxis\":{\"range\":[0,1],\"showgrid\":false,\"showline\":false,\"showticklabels\":false},\"margin\":{\"l\":0,\"r\":0,\"b\":0,\"t\":0},\"showlegend\":false,\"width\":500,\"height\":500},                        {\"responsive\": true}                    ).then(function(){\n",
       "                            \n",
       "var gd = document.getElementById('d488716d-cef5-4563-834c-9ca1f7003743');\n",
       "var x = new MutationObserver(function (mutations, observer) {{\n",
       "        var display = window.getComputedStyle(gd).display;\n",
       "        if (!display || display === 'none') {{\n",
       "            console.log([gd, 'removed!']);\n",
       "            Plotly.purge(gd);\n",
       "            observer.disconnect();\n",
       "        }}\n",
       "}});\n",
       "\n",
       "// Listen for the removal of the full notebook cells\n",
       "var notebookContainer = gd.closest('#notebook-container');\n",
       "if (notebookContainer) {{\n",
       "    x.observe(notebookContainer, {childList: true});\n",
       "}}\n",
       "\n",
       "// Listen for the clearing of the current output cell\n",
       "var outputEl = gd.closest('.output');\n",
       "if (outputEl) {{\n",
       "    x.observe(outputEl, {childList: true});\n",
       "}}\n",
       "\n",
       "                        })                };                });            </script>        </div>"
      ]
     },
     "metadata": {},
     "output_type": "display_data"
    }
   ],
   "execution_count": 49
  },
  {
   "metadata": {},
   "cell_type": "code",
   "outputs": [],
   "execution_count": null,
   "source": "",
   "id": "75fc3e069ef78cd"
  }
 ],
 "metadata": {
  "kernelspec": {
   "display_name": "Python 3",
   "language": "python",
   "name": "python3"
  },
  "language_info": {
   "codemirror_mode": {
    "name": "ipython",
    "version": 2
   },
   "file_extension": ".py",
   "mimetype": "text/x-python",
   "name": "python",
   "nbconvert_exporter": "python",
   "pygments_lexer": "ipython2",
   "version": "2.7.6"
  }
 },
 "nbformat": 4,
 "nbformat_minor": 5
}
