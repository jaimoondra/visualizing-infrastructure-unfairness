{
 "cells": [
  {
   "cell_type": "code",
   "id": "initial_id",
   "metadata": {
    "collapsed": true,
    "ExecuteTime": {
     "end_time": "2024-06-21T21:49:20.370171Z",
     "start_time": "2024-06-21T21:49:19.683535Z"
    }
   },
   "source": [
    "import pandas as pd\n",
    "import numpy as np\n",
    "from ast import literal_eval\n",
    "from bisect import bisect_left, bisect_right\n",
    "from src.usa.plot_utils import plot_new_facilities, plot_state, plot_blockgroups\n",
    "from src.usa.utils import compute_medical_deserts\n",
    "from src.facility_location.utils import compute_minimum_distances\n",
    "from src.usa.states import USAState\n",
    "import plotly.graph_objects as go\n",
    "import os\n"
   ],
   "outputs": [],
   "execution_count": 1
  },
  {
   "metadata": {
    "ExecuteTime": {
     "end_time": "2024-06-21T21:49:20.723639Z",
     "start_time": "2024-06-21T21:49:20.720083Z"
    }
   },
   "cell_type": "code",
   "source": "os.chdir('..')",
   "id": "18d8286a06bdea56",
   "outputs": [],
   "execution_count": 2
  },
  {
   "metadata": {
    "ExecuteTime": {
     "end_time": "2024-06-21T21:53:46.212792Z",
     "start_time": "2024-06-21T21:53:46.191103Z"
    }
   },
   "cell_type": "code",
   "source": [
    "facility_name = 'top_3_pharmacy_chains'\n",
    "state_name = 'Mississippi'\n",
    "State = USAState(state_name)\n",
    "census_df = State.get_census_data(level='blockgroup')"
   ],
   "id": "7889868c2e27be51",
   "outputs": [],
   "execution_count": 15
  },
  {
   "metadata": {
    "ExecuteTime": {
     "end_time": "2024-06-21T21:53:46.962704Z",
     "start_time": "2024-06-21T21:53:46.950823Z"
    }
   },
   "cell_type": "code",
   "source": [
    "df1 = pd.read_csv('data/usa/new_facilities/' + facility_name + '/new_facilities_1.csv', index_col=0)\n",
    "df2 = pd.read_csv('data/usa/new_facilities/' + facility_name + '/new_facilities_2.csv', index_col=0)\n",
    "df3 = pd.read_csv('data/usa/new_facilities/' + facility_name + '/new_facilities_inf.csv', index_col=0)"
   ],
   "id": "e05f9e20dfecd064",
   "outputs": [],
   "execution_count": 16
  },
  {
   "metadata": {
    "ExecuteTime": {
     "end_time": "2024-06-21T21:54:08.298776Z",
     "start_time": "2024-06-21T21:54:08.296053Z"
    }
   },
   "cell_type": "code",
   "source": [
    "facilities = {}\n",
    "facilities[1] = literal_eval(df1.loc[state_name]['100'])\n",
    "facilities[2] = literal_eval(df2.loc[state_name]['100'])\n",
    "facilities[3] = literal_eval(df3.loc[state_name]['100'])\n",
    "all_facilities = set(facilities[1] + facilities[2] + facilities[3])"
   ],
   "id": "b4082f4c346e1792",
   "outputs": [],
   "execution_count": 23
  },
  {
   "metadata": {
    "ExecuteTime": {
     "end_time": "2024-06-21T21:54:08.720570Z",
     "start_time": "2024-06-21T21:54:08.717875Z"
    }
   },
   "cell_type": "code",
   "source": [
    "def get_facility_score(facility, facilities):\n",
    "    thresholds = [5, 10, 25, 50, 100, np.inf]\n",
    "    \n",
    "    score = 0\n",
    "    for i in range(1, 4):\n",
    "        if facility in facilities[i]:\n",
    "            id = facilities[i].index(facility)\n",
    "            threshold = bisect_left(a=thresholds, x=id)\n",
    "            score += np.sqrt(1/thresholds[threshold])\n",
    "        else:\n",
    "            score += 0\n",
    "    \n",
    "    return score\n"
   ],
   "id": "875aebc37e048574",
   "outputs": [],
   "execution_count": 24
  },
  {
   "metadata": {
    "ExecuteTime": {
     "end_time": "2024-06-21T21:54:09.077514Z",
     "start_time": "2024-06-21T21:54:09.074837Z"
    }
   },
   "cell_type": "code",
   "source": "scores = {facility: get_facility_score(facility, facilities) for facility in all_facilities}",
   "id": "4fe11eab09e1af55",
   "outputs": [],
   "execution_count": 25
  },
  {
   "metadata": {
    "ExecuteTime": {
     "end_time": "2024-06-21T21:54:09.481811Z",
     "start_time": "2024-06-21T21:54:09.479651Z"
    }
   },
   "cell_type": "code",
   "source": "all_facilities = {k: v for k, v in sorted(scores.items(), key=lambda item: item[1], reverse=True)}",
   "id": "171ca1fb962ef2c1",
   "outputs": [],
   "execution_count": 26
  },
  {
   "metadata": {
    "ExecuteTime": {
     "end_time": "2024-06-21T21:55:49.228852Z",
     "start_time": "2024-06-21T21:55:49.225170Z"
    }
   },
   "cell_type": "code",
   "source": [
    "def analyze_new_facilities(k, census_df, poverty_threshold=20, n_urban=2, n_rural=10):\n",
    "    new_facilities = list(all_facilities.keys())[:k]\n",
    "    census_df = compute_minimum_distances(census_df=census_df, facilities=new_facilities,\n",
    "                                          existing_distances_label='closest_distance_' + facility_name,\n",
    "                                          new_distances_label='temp_distance'\n",
    "                                          )\n",
    "    desert_df = compute_medical_deserts(state_df=census_df, poverty_threshold=20,\n",
    "                                        n_urban=2, n_rural=10, distance_label='temp_distance')\n",
    "    fig = go.Figure()\n",
    "    fig, bounds = plot_state(fig, State)\n",
    "    fig = plot_new_facilities(fig, list(all_facilities.keys())[:k], census_df)\n",
    "    # fig = plot_blockgroups(fig, desert_df)\n",
    "    \n",
    "    return fig, len(desert_df)\n",
    "    "
   ],
   "id": "552cfc1f18810c3b",
   "outputs": [],
   "execution_count": 32
  },
  {
   "metadata": {
    "ExecuteTime": {
     "end_time": "2024-06-21T21:55:50.454663Z",
     "start_time": "2024-06-21T21:55:49.666124Z"
    }
   },
   "cell_type": "code",
   "source": [
    "fig, n_deserts = analyze_new_facilities(50, census_df)\n",
    "print(n_deserts)\n",
    "fig.show()"
   ],
   "id": "eda5b8e1f9a0a15f",
   "outputs": [
    {
     "name": "stdout",
     "output_type": "stream",
     "text": [
      "233\n"
     ]
    },
    {
     "data": {
      "application/vnd.plotly.v1+json": {
       "data": [
        {
         "colorscale": [
          [
           0.0,
           "#fbfcf9"
          ],
          [
           1.0,
           "#f9f3e1"
          ]
         ],
         "locationmode": "USA-states",
         "locations": [
          "AL",
          "AK",
          "AZ",
          "AR",
          "CA",
          "CO",
          "CT",
          "DE",
          "FL",
          "GA",
          "HI",
          "ID",
          "IL",
          "IN",
          "IA",
          "KS",
          "KY",
          "LA",
          "ME",
          "MD",
          "MA",
          "MI",
          "MN",
          "MS",
          "MO",
          "MT",
          "NE",
          "NV",
          "NH",
          "NJ",
          "NM",
          "NY",
          "NC",
          "ND",
          "OH",
          "OK",
          "OR",
          "PA",
          "RI",
          "SC",
          "SD",
          "TN",
          "TX",
          "UT",
          "VT",
          "VA",
          "WA",
          "WV",
          "WI",
          "WY"
         ],
         "showscale": false,
         "z": [
          1.0,
          1.0,
          1.0,
          1.0,
          1.0,
          1.0,
          1.0,
          1.0,
          1.0,
          1.0,
          1.0,
          1.0,
          1.0,
          1.0,
          1.0,
          1.0,
          1.0,
          1.0,
          1.0,
          1.0,
          1.0,
          1.0,
          1.0,
          2.0,
          1.0,
          1.0,
          1.0,
          1.0,
          1.0,
          1.0,
          1.0,
          1.0,
          1.0,
          1.0,
          1.0,
          1.0,
          1.0,
          1.0,
          1.0,
          1.0,
          1.0,
          1.0,
          1.0,
          1.0,
          1.0,
          1.0,
          1.0,
          1.0,
          1.0,
          1.0
         ],
         "type": "choropleth"
        },
        {
         "lat": [
          34.00311211147437,
          34.70534544741155,
          33.085757727894766,
          34.20148248456139,
          31.819932635850456,
          34.89248999361662,
          30.395921901219648,
          33.16804613104144,
          32.615439991413936,
          31.294404395953705,
          30.46247474090972,
          32.86567283514544,
          33.11081470877875,
          31.46779466563673,
          30.394546836598373,
          30.576989307996605,
          30.880047644994875,
          33.818510337951714,
          31.55824841374281,
          32.88128673044486,
          33.72509814641174,
          30.28841220569233,
          32.67321844547327,
          32.019244155882795,
          30.400359242782383,
          33.40237693282592,
          31.140309408618243,
          32.623628042685205,
          33.175944652477554,
          31.957806187230503,
          32.542025256787824,
          30.483291893213902,
          31.594718506234777,
          34.19885961561128,
          31.980632079580342,
          32.26484036465876,
          30.30911423091513,
          31.81534681991426,
          31.11124408852829,
          33.850403505470794,
          30.684020181907552,
          30.365345381957365,
          34.81363366284522,
          31.25084736665299,
          31.124896738432003,
          32.343172132606725,
          31.50436266945403,
          31.204092371360623,
          33.50815356446396,
          34.490661030384175
         ],
         "line": {
          "color": "red",
          "width": 1.0
         },
         "lon": [
          -90.05655724110538,
          -90.3795559859263,
          -89.85663116459565,
          -90.28694641948204,
          -91.19919331203153,
          -89.64802915089668,
          -88.88242698029774,
          -90.2191097156101,
          -90.02305621228263,
          -89.43649401128334,
          -88.5449707657293,
          -90.40599685445883,
          -88.56366065631343,
          -90.00796313620937,
          -89.36434096488217,
          -89.17085570509124,
          -89.25196683918136,
          -88.54764254630588,
          -89.93446096616161,
          -90.39965428063022,
          -90.54364671767452,
          -89.43531263172422,
          -88.71085402015173,
          -88.70905153741808,
          -88.94292089979947,
          -90.89659494533434,
          -91.29357166196743,
          -90.37779726256412,
          -90.49158758239076,
          -89.19385697178033,
          -89.06401727722526,
          -89.07591400702898,
          -89.20812369019414,
          -90.56132216612386,
          -90.3695118395089,
          -90.42741241161528,
          -89.33443401324706,
          -89.45259949714493,
          -90.42335064323971,
          -90.98864636452308,
          -89.66853107609539,
          -88.52715109022202,
          -89.25667999422686,
          -89.40053794274206,
          -90.14803508271665,
          -90.23264738244173,
          -89.56713422121966,
          -89.02569966225732,
          -89.40741058972715,
          -88.62141309085494
         ],
         "marker": {
          "color": "dark red",
          "opacity": 0.8,
          "size": 6,
          "symbol": "diamond"
         },
         "mode": "markers",
         "name": "Proposed new existing_facilities",
         "showlegend": true,
         "type": "scattergeo"
        }
       ],
       "layout": {
        "template": {
         "data": {
          "candlestick": [
           {
            "decreasing": {
             "line": {
              "color": "#000033"
             }
            },
            "increasing": {
             "line": {
              "color": "#000032"
             }
            },
            "type": "candlestick"
           }
          ],
          "contourcarpet": [
           {
            "colorscale": [
             [
              0.0,
              "#000011"
             ],
             [
              0.1111111111111111,
              "#000012"
             ],
             [
              0.2222222222222222,
              "#000013"
             ],
             [
              0.3333333333333333,
              "#000014"
             ],
             [
              0.4444444444444444,
              "#000015"
             ],
             [
              0.5555555555555556,
              "#000016"
             ],
             [
              0.6666666666666666,
              "#000017"
             ],
             [
              0.7777777777777778,
              "#000018"
             ],
             [
              0.8888888888888888,
              "#000019"
             ],
             [
              1.0,
              "#000020"
             ]
            ],
            "type": "contourcarpet"
           }
          ],
          "contour": [
           {
            "colorscale": [
             [
              0.0,
              "#000011"
             ],
             [
              0.1111111111111111,
              "#000012"
             ],
             [
              0.2222222222222222,
              "#000013"
             ],
             [
              0.3333333333333333,
              "#000014"
             ],
             [
              0.4444444444444444,
              "#000015"
             ],
             [
              0.5555555555555556,
              "#000016"
             ],
             [
              0.6666666666666666,
              "#000017"
             ],
             [
              0.7777777777777778,
              "#000018"
             ],
             [
              0.8888888888888888,
              "#000019"
             ],
             [
              1.0,
              "#000020"
             ]
            ],
            "type": "contour"
           }
          ],
          "heatmap": [
           {
            "colorscale": [
             [
              0.0,
              "#000011"
             ],
             [
              0.1111111111111111,
              "#000012"
             ],
             [
              0.2222222222222222,
              "#000013"
             ],
             [
              0.3333333333333333,
              "#000014"
             ],
             [
              0.4444444444444444,
              "#000015"
             ],
             [
              0.5555555555555556,
              "#000016"
             ],
             [
              0.6666666666666666,
              "#000017"
             ],
             [
              0.7777777777777778,
              "#000018"
             ],
             [
              0.8888888888888888,
              "#000019"
             ],
             [
              1.0,
              "#000020"
             ]
            ],
            "type": "heatmap"
           }
          ],
          "histogram2d": [
           {
            "colorscale": [
             [
              0.0,
              "#000011"
             ],
             [
              0.1111111111111111,
              "#000012"
             ],
             [
              0.2222222222222222,
              "#000013"
             ],
             [
              0.3333333333333333,
              "#000014"
             ],
             [
              0.4444444444444444,
              "#000015"
             ],
             [
              0.5555555555555556,
              "#000016"
             ],
             [
              0.6666666666666666,
              "#000017"
             ],
             [
              0.7777777777777778,
              "#000018"
             ],
             [
              0.8888888888888888,
              "#000019"
             ],
             [
              1.0,
              "#000020"
             ]
            ],
            "type": "histogram2d"
           }
          ],
          "icicle": [
           {
            "textfont": {
             "color": "white"
            },
            "type": "icicle"
           }
          ],
          "sankey": [
           {
            "textfont": {
             "color": "#000036"
            },
            "type": "sankey"
           }
          ],
          "scatter": [
           {
            "marker": {
             "line": {
              "width": 0
             }
            },
            "type": "scatter"
           }
          ],
          "table": [
           {
            "cells": {
             "fill": {
              "color": "#000038"
             },
             "font": {
              "color": "#000037"
             },
             "line": {
              "color": "#000039"
             }
            },
            "header": {
             "fill": {
              "color": "#000040"
             },
             "font": {
              "color": "#000036"
             },
             "line": {
              "color": "#000039"
             }
            },
            "type": "table"
           }
          ],
          "waterfall": [
           {
            "connector": {
             "line": {
              "color": "#000036",
              "width": 2
             }
            },
            "decreasing": {
             "marker": {
              "color": "#000033"
             }
            },
            "increasing": {
             "marker": {
              "color": "#000032"
             }
            },
            "totals": {
             "marker": {
              "color": "#000034"
             }
            },
            "type": "waterfall"
           }
          ]
         },
         "layout": {
          "coloraxis": {
           "colorscale": [
            [
             0.0,
             "#000011"
            ],
            [
             0.1111111111111111,
             "#000012"
            ],
            [
             0.2222222222222222,
             "#000013"
            ],
            [
             0.3333333333333333,
             "#000014"
            ],
            [
             0.4444444444444444,
             "#000015"
            ],
            [
             0.5555555555555556,
             "#000016"
            ],
            [
             0.6666666666666666,
             "#000017"
            ],
            [
             0.7777777777777778,
             "#000018"
            ],
            [
             0.8888888888888888,
             "#000019"
            ],
            [
             1.0,
             "#000020"
            ]
           ]
          },
          "colorscale": {
           "diverging": [
            [
             0.0,
             "#000021"
            ],
            [
             0.1,
             "#000022"
            ],
            [
             0.2,
             "#000023"
            ],
            [
             0.3,
             "#000024"
            ],
            [
             0.4,
             "#000025"
            ],
            [
             0.5,
             "#000026"
            ],
            [
             0.6,
             "#000027"
            ],
            [
             0.7,
             "#000028"
            ],
            [
             0.8,
             "#000029"
            ],
            [
             0.9,
             "#000030"
            ],
            [
             1.0,
             "#000031"
            ]
           ],
           "sequential": [
            [
             0.0,
             "#000011"
            ],
            [
             0.1111111111111111,
             "#000012"
            ],
            [
             0.2222222222222222,
             "#000013"
            ],
            [
             0.3333333333333333,
             "#000014"
            ],
            [
             0.4444444444444444,
             "#000015"
            ],
            [
             0.5555555555555556,
             "#000016"
            ],
            [
             0.6666666666666666,
             "#000017"
            ],
            [
             0.7777777777777778,
             "#000018"
            ],
            [
             0.8888888888888888,
             "#000019"
            ],
            [
             1.0,
             "#000020"
            ]
           ],
           "sequentialminus": [
            [
             0.0,
             "#000011"
            ],
            [
             0.1111111111111111,
             "#000012"
            ],
            [
             0.2222222222222222,
             "#000013"
            ],
            [
             0.3333333333333333,
             "#000014"
            ],
            [
             0.4444444444444444,
             "#000015"
            ],
            [
             0.5555555555555556,
             "#000016"
            ],
            [
             0.6666666666666666,
             "#000017"
            ],
            [
             0.7777777777777778,
             "#000018"
            ],
            [
             0.8888888888888888,
             "#000019"
            ],
            [
             1.0,
             "#000020"
            ]
           ]
          },
          "colorway": [
           "#000001",
           "#000002",
           "#000003",
           "#000004",
           "#000005",
           "#000006",
           "#000007",
           "#000008",
           "#000009",
           "#000010"
          ]
         }
        },
        "geo": {
         "lonaxis": {
          "range": [
           -91.8318174,
           -87.9204286
          ]
         },
         "lataxis": {
          "range": [
           29.89705255,
           35.23848645
          ]
         },
         "projection": {
          "type": "mercator"
         },
         "showland": true,
         "showcoastlines": true,
         "showframe": false,
         "showocean": true,
         "showcountries": true,
         "showlakes": true,
         "lakecolor": "#a4b8b7",
         "oceancolor": "#a4b8b7",
         "landcolor": "#fbfcf9",
         "scope": "north america"
        },
        "margin": {
         "l": 0,
         "r": 0,
         "t": 0,
         "b": 0
        },
        "xaxis": {
         "range": [
          -91.8318174,
          -87.9204286
         ],
         "autorange": false
        },
        "yaxis": {
         "range": [
          29.89705255,
          35.23848645
         ],
         "autorange": false
        },
        "legend": {
         "itemsizing": "constant",
         "x": 0.02,
         "y": 0.98,
         "orientation": "v",
         "bgcolor": "rgba(255,255,255,0.5)"
        },
        "autosize": true,
        "showlegend": true
       },
       "config": {
        "plotlyServerURL": "https://plot.ly"
       }
      },
      "text/html": [
       "<div>                            <div id=\"d07ac8d3-f769-4634-bcef-22698998e53b\" class=\"plotly-graph-div\" style=\"height:525px; width:100%;\"></div>            <script type=\"text/javascript\">                require([\"plotly\"], function(Plotly) {                    window.PLOTLYENV=window.PLOTLYENV || {};                                    if (document.getElementById(\"d07ac8d3-f769-4634-bcef-22698998e53b\")) {                    Plotly.newPlot(                        \"d07ac8d3-f769-4634-bcef-22698998e53b\",                        [{\"colorscale\":[[0.0,\"#fbfcf9\"],[1.0,\"#f9f3e1\"]],\"locationmode\":\"USA-states\",\"locations\":[\"AL\",\"AK\",\"AZ\",\"AR\",\"CA\",\"CO\",\"CT\",\"DE\",\"FL\",\"GA\",\"HI\",\"ID\",\"IL\",\"IN\",\"IA\",\"KS\",\"KY\",\"LA\",\"ME\",\"MD\",\"MA\",\"MI\",\"MN\",\"MS\",\"MO\",\"MT\",\"NE\",\"NV\",\"NH\",\"NJ\",\"NM\",\"NY\",\"NC\",\"ND\",\"OH\",\"OK\",\"OR\",\"PA\",\"RI\",\"SC\",\"SD\",\"TN\",\"TX\",\"UT\",\"VT\",\"VA\",\"WA\",\"WV\",\"WI\",\"WY\"],\"showscale\":false,\"z\":[1.0,1.0,1.0,1.0,1.0,1.0,1.0,1.0,1.0,1.0,1.0,1.0,1.0,1.0,1.0,1.0,1.0,1.0,1.0,1.0,1.0,1.0,1.0,2.0,1.0,1.0,1.0,1.0,1.0,1.0,1.0,1.0,1.0,1.0,1.0,1.0,1.0,1.0,1.0,1.0,1.0,1.0,1.0,1.0,1.0,1.0,1.0,1.0,1.0,1.0],\"type\":\"choropleth\"},{\"lat\":[34.00311211147437,34.70534544741155,33.085757727894766,34.20148248456139,31.819932635850456,34.89248999361662,30.395921901219648,33.16804613104144,32.615439991413936,31.294404395953705,30.46247474090972,32.86567283514544,33.11081470877875,31.46779466563673,30.394546836598373,30.576989307996605,30.880047644994875,33.818510337951714,31.55824841374281,32.88128673044486,33.72509814641174,30.28841220569233,32.67321844547327,32.019244155882795,30.400359242782383,33.40237693282592,31.140309408618243,32.623628042685205,33.175944652477554,31.957806187230503,32.542025256787824,30.483291893213902,31.594718506234777,34.19885961561128,31.980632079580342,32.26484036465876,30.30911423091513,31.81534681991426,31.11124408852829,33.850403505470794,30.684020181907552,30.365345381957365,34.81363366284522,31.25084736665299,31.124896738432003,32.343172132606725,31.50436266945403,31.204092371360623,33.50815356446396,34.490661030384175],\"line\":{\"color\":\"red\",\"width\":1.0},\"lon\":[-90.05655724110538,-90.3795559859263,-89.85663116459565,-90.28694641948204,-91.19919331203153,-89.64802915089668,-88.88242698029774,-90.2191097156101,-90.02305621228263,-89.43649401128334,-88.5449707657293,-90.40599685445883,-88.56366065631343,-90.00796313620937,-89.36434096488217,-89.17085570509124,-89.25196683918136,-88.54764254630588,-89.93446096616161,-90.39965428063022,-90.54364671767452,-89.43531263172422,-88.71085402015173,-88.70905153741808,-88.94292089979947,-90.89659494533434,-91.29357166196743,-90.37779726256412,-90.49158758239076,-89.19385697178033,-89.06401727722526,-89.07591400702898,-89.20812369019414,-90.56132216612386,-90.3695118395089,-90.42741241161528,-89.33443401324706,-89.45259949714493,-90.42335064323971,-90.98864636452308,-89.66853107609539,-88.52715109022202,-89.25667999422686,-89.40053794274206,-90.14803508271665,-90.23264738244173,-89.56713422121966,-89.02569966225732,-89.40741058972715,-88.62141309085494],\"marker\":{\"color\":\"dark red\",\"opacity\":0.8,\"size\":6,\"symbol\":\"diamond\"},\"mode\":\"markers\",\"name\":\"Proposed new existing_facilities\",\"showlegend\":true,\"type\":\"scattergeo\"}],                        {\"template\":{\"data\":{\"candlestick\":[{\"decreasing\":{\"line\":{\"color\":\"#000033\"}},\"increasing\":{\"line\":{\"color\":\"#000032\"}},\"type\":\"candlestick\"}],\"contourcarpet\":[{\"colorscale\":[[0.0,\"#000011\"],[0.1111111111111111,\"#000012\"],[0.2222222222222222,\"#000013\"],[0.3333333333333333,\"#000014\"],[0.4444444444444444,\"#000015\"],[0.5555555555555556,\"#000016\"],[0.6666666666666666,\"#000017\"],[0.7777777777777778,\"#000018\"],[0.8888888888888888,\"#000019\"],[1.0,\"#000020\"]],\"type\":\"contourcarpet\"}],\"contour\":[{\"colorscale\":[[0.0,\"#000011\"],[0.1111111111111111,\"#000012\"],[0.2222222222222222,\"#000013\"],[0.3333333333333333,\"#000014\"],[0.4444444444444444,\"#000015\"],[0.5555555555555556,\"#000016\"],[0.6666666666666666,\"#000017\"],[0.7777777777777778,\"#000018\"],[0.8888888888888888,\"#000019\"],[1.0,\"#000020\"]],\"type\":\"contour\"}],\"heatmap\":[{\"colorscale\":[[0.0,\"#000011\"],[0.1111111111111111,\"#000012\"],[0.2222222222222222,\"#000013\"],[0.3333333333333333,\"#000014\"],[0.4444444444444444,\"#000015\"],[0.5555555555555556,\"#000016\"],[0.6666666666666666,\"#000017\"],[0.7777777777777778,\"#000018\"],[0.8888888888888888,\"#000019\"],[1.0,\"#000020\"]],\"type\":\"heatmap\"}],\"histogram2d\":[{\"colorscale\":[[0.0,\"#000011\"],[0.1111111111111111,\"#000012\"],[0.2222222222222222,\"#000013\"],[0.3333333333333333,\"#000014\"],[0.4444444444444444,\"#000015\"],[0.5555555555555556,\"#000016\"],[0.6666666666666666,\"#000017\"],[0.7777777777777778,\"#000018\"],[0.8888888888888888,\"#000019\"],[1.0,\"#000020\"]],\"type\":\"histogram2d\"}],\"icicle\":[{\"textfont\":{\"color\":\"white\"},\"type\":\"icicle\"}],\"sankey\":[{\"textfont\":{\"color\":\"#000036\"},\"type\":\"sankey\"}],\"scatter\":[{\"marker\":{\"line\":{\"width\":0}},\"type\":\"scatter\"}],\"table\":[{\"cells\":{\"fill\":{\"color\":\"#000038\"},\"font\":{\"color\":\"#000037\"},\"line\":{\"color\":\"#000039\"}},\"header\":{\"fill\":{\"color\":\"#000040\"},\"font\":{\"color\":\"#000036\"},\"line\":{\"color\":\"#000039\"}},\"type\":\"table\"}],\"waterfall\":[{\"connector\":{\"line\":{\"color\":\"#000036\",\"width\":2}},\"decreasing\":{\"marker\":{\"color\":\"#000033\"}},\"increasing\":{\"marker\":{\"color\":\"#000032\"}},\"totals\":{\"marker\":{\"color\":\"#000034\"}},\"type\":\"waterfall\"}]},\"layout\":{\"coloraxis\":{\"colorscale\":[[0.0,\"#000011\"],[0.1111111111111111,\"#000012\"],[0.2222222222222222,\"#000013\"],[0.3333333333333333,\"#000014\"],[0.4444444444444444,\"#000015\"],[0.5555555555555556,\"#000016\"],[0.6666666666666666,\"#000017\"],[0.7777777777777778,\"#000018\"],[0.8888888888888888,\"#000019\"],[1.0,\"#000020\"]]},\"colorscale\":{\"diverging\":[[0.0,\"#000021\"],[0.1,\"#000022\"],[0.2,\"#000023\"],[0.3,\"#000024\"],[0.4,\"#000025\"],[0.5,\"#000026\"],[0.6,\"#000027\"],[0.7,\"#000028\"],[0.8,\"#000029\"],[0.9,\"#000030\"],[1.0,\"#000031\"]],\"sequential\":[[0.0,\"#000011\"],[0.1111111111111111,\"#000012\"],[0.2222222222222222,\"#000013\"],[0.3333333333333333,\"#000014\"],[0.4444444444444444,\"#000015\"],[0.5555555555555556,\"#000016\"],[0.6666666666666666,\"#000017\"],[0.7777777777777778,\"#000018\"],[0.8888888888888888,\"#000019\"],[1.0,\"#000020\"]],\"sequentialminus\":[[0.0,\"#000011\"],[0.1111111111111111,\"#000012\"],[0.2222222222222222,\"#000013\"],[0.3333333333333333,\"#000014\"],[0.4444444444444444,\"#000015\"],[0.5555555555555556,\"#000016\"],[0.6666666666666666,\"#000017\"],[0.7777777777777778,\"#000018\"],[0.8888888888888888,\"#000019\"],[1.0,\"#000020\"]]},\"colorway\":[\"#000001\",\"#000002\",\"#000003\",\"#000004\",\"#000005\",\"#000006\",\"#000007\",\"#000008\",\"#000009\",\"#000010\"]}},\"geo\":{\"lonaxis\":{\"range\":[-91.8318174,-87.9204286]},\"lataxis\":{\"range\":[29.89705255,35.23848645]},\"projection\":{\"type\":\"mercator\"},\"showland\":true,\"showcoastlines\":true,\"showframe\":false,\"showocean\":true,\"showcountries\":true,\"showlakes\":true,\"lakecolor\":\"#a4b8b7\",\"oceancolor\":\"#a4b8b7\",\"landcolor\":\"#fbfcf9\",\"scope\":\"north america\"},\"margin\":{\"l\":0,\"r\":0,\"t\":0,\"b\":0},\"xaxis\":{\"range\":[-91.8318174,-87.9204286],\"autorange\":false},\"yaxis\":{\"range\":[29.89705255,35.23848645],\"autorange\":false},\"legend\":{\"itemsizing\":\"constant\",\"x\":0.02,\"y\":0.98,\"orientation\":\"v\",\"bgcolor\":\"rgba(255,255,255,0.5)\"},\"autosize\":true,\"showlegend\":true},                        {\"responsive\": true}                    ).then(function(){\n",
       "                            \n",
       "var gd = document.getElementById('d07ac8d3-f769-4634-bcef-22698998e53b');\n",
       "var x = new MutationObserver(function (mutations, observer) {{\n",
       "        var display = window.getComputedStyle(gd).display;\n",
       "        if (!display || display === 'none') {{\n",
       "            console.log([gd, 'removed!']);\n",
       "            Plotly.purge(gd);\n",
       "            observer.disconnect();\n",
       "        }}\n",
       "}});\n",
       "\n",
       "// Listen for the removal of the full notebook cells\n",
       "var notebookContainer = gd.closest('#notebook-container');\n",
       "if (notebookContainer) {{\n",
       "    x.observe(notebookContainer, {childList: true});\n",
       "}}\n",
       "\n",
       "// Listen for the clearing of the current output cell\n",
       "var outputEl = gd.closest('.output');\n",
       "if (outputEl) {{\n",
       "    x.observe(outputEl, {childList: true});\n",
       "}}\n",
       "\n",
       "                        })                };                });            </script>        </div>"
      ]
     },
     "metadata": {},
     "output_type": "display_data"
    }
   ],
   "execution_count": 33
  },
  {
   "metadata": {},
   "cell_type": "code",
   "outputs": [],
   "execution_count": null,
   "source": " ",
   "id": "bf474538799e018e"
  }
 ],
 "metadata": {
  "kernelspec": {
   "display_name": "Python 3",
   "language": "python",
   "name": "python3"
  },
  "language_info": {
   "codemirror_mode": {
    "name": "ipython",
    "version": 2
   },
   "file_extension": ".py",
   "mimetype": "text/x-python",
   "name": "python",
   "nbconvert_exporter": "python",
   "pygments_lexer": "ipython2",
   "version": "2.7.6"
  }
 },
 "nbformat": 4,
 "nbformat_minor": 5
}
