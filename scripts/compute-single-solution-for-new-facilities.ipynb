{
 "cells": [
  {
   "cell_type": "code",
   "id": "initial_id",
   "metadata": {
    "collapsed": true,
    "ExecuteTime": {
     "end_time": "2024-07-13T17:21:02.267983Z",
     "start_time": "2024-07-13T17:21:02.262565Z"
    }
   },
   "source": [
    "import pandas as pd\n",
    "import math\n",
    "import numpy as np\n",
    "from ast import literal_eval\n",
    "from bisect import bisect_left\n",
    "from src.usa.plot_utils import plot_new_facilities, plot_state\n",
    "from src.usa.utils import compute_medical_deserts\n",
    "from src.facility_location.utils import compute_minimum_distances\n",
    "from src.usa.constants import state_names\n",
    "from src.usa.facilities import PharmaciesTop3, ChildCare, FDICInsuredBanks, Hospitals, NursingHomes, PrivateSchools, UrgentCare\n",
    "from haversine import haversine\n",
    "from src.usa.states import USAState\n",
    "import plotly.graph_objects as go\n",
    "import os\n",
    "import csv\n",
    "from tqdm import tqdm\n",
    "import sys\n"
   ],
   "outputs": [],
   "execution_count": 9
  },
  {
   "metadata": {
    "ExecuteTime": {
     "end_time": "2024-07-13T17:18:52.481374Z",
     "start_time": "2024-07-13T17:18:52.478523Z"
    }
   },
   "cell_type": "code",
   "source": "os.chdir('..')",
   "id": "18d8286a06bdea56",
   "outputs": [],
   "execution_count": 2
  },
  {
   "metadata": {
    "ExecuteTime": {
     "end_time": "2024-07-13T17:19:06.014840Z",
     "start_time": "2024-07-13T17:19:06.011457Z"
    }
   },
   "cell_type": "code",
   "source": [
    "ALL_FACILITY_TYPES = [PharmaciesTop3, ChildCare, FDICInsuredBanks, Hospitals, NursingHomes, PrivateSchools, UrgentCare]\n",
    "facility_names = [facility.name for facility in ALL_FACILITY_TYPES]"
   ],
   "id": "7889868c2e27be51",
   "outputs": [],
   "execution_count": 6
  },
  {
   "metadata": {
    "ExecuteTime": {
     "end_time": "2024-07-13T17:19:06.232924Z",
     "start_time": "2024-07-13T17:19:06.228128Z"
    }
   },
   "cell_type": "code",
   "source": [
    "def get_facility_weights(solutions):\n",
    "    weights = dict()\n",
    "    thresholds = [5, 10, 25, 50, 100, np.inf]\n",
    "    \n",
    "    for facility in set(solutions[1] + solutions[2] + solutions[3]):\n",
    "        weights[facility] = 0\n",
    "        for i in range(1, 4):\n",
    "            if facility in solutions[i]:\n",
    "                id = solutions[i].index(facility)\n",
    "                threshold = bisect_left(a=thresholds, x=id)\n",
    "                weights[facility] += math.pow(1/thresholds[threshold], 1)\n",
    "\n",
    "    return weights\n"
   ],
   "id": "b4082f4c346e1792",
   "outputs": [],
   "execution_count": 7
  },
  {
   "metadata": {
    "ExecuteTime": {
     "end_time": "2024-07-13T17:19:07.646212Z",
     "start_time": "2024-07-13T17:19:07.640409Z"
    }
   },
   "cell_type": "code",
   "source": [
    "def compute_distances_to_facility(facility_longitude, facility_latitude, longitudes, latitudes):\n",
    "    distances = []\n",
    "    for i in range(len(longitudes)):\n",
    "        distances.append(haversine(point1=(facility_latitude, facility_longitude), point2=(latitudes[i], longitudes[i])))\n",
    "    \n",
    "    return distances\n",
    "\n",
    "\n",
    "def facility_gain(distances_to_existing_facilities, distances_to_facility, urban, weight):\n",
    "    reduction = 0\n",
    "    for i in range(len(distances_to_existing_facilities)):\n",
    "        facility_gain = distances_to_existing_facilities[i] - distances_to_facility[i]\n",
    "        facility_gain = max(facility_gain, 0)\n",
    "        if urban[i]:\n",
    "            facility_gain = facility_gain * 5\n",
    "        reduction = reduction + facility_gain\n",
    "    \n",
    "    return reduction * weight\n",
    "\n",
    "\n",
    "def find_facility_with_highest_score(scores):\n",
    "    facility = -1\n",
    "    score = 0\n",
    "    for f in scores.keys():\n",
    "        if scores[f] >= score:\n",
    "            facility = f\n",
    "            score = scores[f]\n",
    "            \n",
    "    return facility\n",
    "\n",
    "\n",
    "def compute_new_minimum_distances(distances_to_existing_facilities, distances_to_facility):\n",
    "    new_distances = []\n",
    "    for i in range(len(distances_to_existing_facilities)):\n",
    "        new_distances.append(min(distances_to_existing_facilities[i], distances_to_facility[i]))\n",
    "    \n",
    "    return new_distances\n",
    "\n",
    "\n",
    "def greedy_algorithm_to_combine_facilities(solutions, census_df, facility_name, K=25):\n",
    "    list_of_new_facilities = set(solutions[1] + solutions[2] + solutions[3])\n",
    "    \n",
    "    facilities_output_order = []\n",
    "    existing_distances = list(census_df['closest_distance_' + facility_name])\n",
    "    longitudes = list(census_df['Longitude'])\n",
    "    latitudes = list(census_df['Latitude'])\n",
    "    urban = list(census_df['urban'])\n",
    "    \n",
    "    distances_to_new_facilities = {\n",
    "        facility: compute_distances_to_facility(census_df.loc[facility]['Longitude'], census_df.loc[facility]['Latitude'], longitudes, latitudes) for facility in list_of_new_facilities\n",
    "    }\n",
    "    weights = get_facility_weights(solutions)\n",
    "    \n",
    "    while len(facilities_output_order) < K:\n",
    "        scores = dict()\n",
    "        for facility in list_of_new_facilities:\n",
    "            scores[facility] = facility_gain(existing_distances, distances_to_new_facilities[facility], urban, weights[facility])\n",
    "    \n",
    "        f = find_facility_with_highest_score(scores)\n",
    "        facilities_output_order.append(f)\n",
    "        list_of_new_facilities.remove(f)\n",
    "\n",
    "        existing_distances = compute_new_minimum_distances(existing_distances, distances_to_new_facilities[f])\n",
    "        \n",
    "    return facilities_output_order\n"
   ],
   "id": "3c9d965219de15d6",
   "outputs": [],
   "execution_count": 8
  },
  {
   "metadata": {
    "jupyter": {
     "is_executing": true
    },
    "ExecuteTime": {
     "start_time": "2024-07-13T17:21:31.500094Z"
    }
   },
   "cell_type": "code",
   "source": [
    "for facility_name in facility_names:\n",
    "    print('Facility:', facility_name, file=sys.stderr)\n",
    "    \n",
    "    filename = 'data/usa/new_facilities/' + facility_name + '/new_facilities_combined.csv'\n",
    "    with open(filename, 'w') as f:\n",
    "        writer = csv.writer(f)\n",
    "        writer.writerow(['State', 5, 10, 25, 50, 100])\n",
    "\n",
    "    for state_name in tqdm(state_names):\n",
    "        State = USAState(state_name)\n",
    "        census_df = State.get_census_data(level='blockgroup')\n",
    "    \n",
    "        df1 = pd.read_csv('data/usa/new_facilities/' + facility_name + '/new_facilities_1.csv', index_col=0)\n",
    "        df2 = pd.read_csv('data/usa/new_facilities/' + facility_name + '/new_facilities_2.csv', index_col=0)\n",
    "        df3 = pd.read_csv('data/usa/new_facilities/' + facility_name + '/new_facilities_inf.csv', index_col=0)\n",
    "    \n",
    "        solutions = {\n",
    "            1: literal_eval(df1.loc[state_name]['100']),\n",
    "            2: literal_eval(df2.loc[state_name]['100']),\n",
    "            3: literal_eval(df3.loc[state_name]['100'])\n",
    "        }\n",
    "        \n",
    "        new_facilities = greedy_algorithm_to_combine_facilities(solutions, census_df, facility_name, K=100)\n",
    "\n",
    "        with open(filename, 'a') as file:\n",
    "            writer = csv.writer(file)\n",
    "            writer.writerow([state_name, new_facilities[:5],\n",
    "                             new_facilities[:10],\n",
    "                             new_facilities[:25],\n",
    "                             new_facilities[:50],\n",
    "                             new_facilities[:100]])\n"
   ],
   "id": "4fe11eab09e1af55",
   "outputs": [
    {
     "name": "stderr",
     "output_type": "stream",
     "text": [
      "Facility: top_3_pharmacy_chains\n",
      " 74%|███████▍  | 37/50 [06:56<02:26, 11.24s/it]"
     ]
    }
   ],
   "execution_count": null
  },
  {
   "metadata": {},
   "cell_type": "code",
   "outputs": [],
   "execution_count": null,
   "source": "",
   "id": "d83fbeeebfeac202"
  }
 ],
 "metadata": {
  "kernelspec": {
   "display_name": "Python 3",
   "language": "python",
   "name": "python3"
  },
  "language_info": {
   "codemirror_mode": {
    "name": "ipython",
    "version": 2
   },
   "file_extension": ".py",
   "mimetype": "text/x-python",
   "name": "python",
   "nbconvert_exporter": "python",
   "pygments_lexer": "ipython2",
   "version": "2.7.6"
  }
 },
 "nbformat": 4,
 "nbformat_minor": 5
}
